{
 "cells": [
  {
   "cell_type": "code",
   "execution_count": 1,
   "metadata": {
    "collapsed": false
   },
   "outputs": [
    {
     "name": "stderr",
     "output_type": "stream",
     "text": [
      "/Users/Peter/anaconda/lib/python2.7/site-packages/matplotlib/__init__.py:872: UserWarning: axes.color_cycle is deprecated and replaced with axes.prop_cycle; please use the latter.\n",
      "  warnings.warn(self.msg_depr % (key, alt_key))\n"
     ]
    }
   ],
   "source": [
    "%matplotlib inline\n",
    "import matplotlib.pylab as plt\n",
    "import pandas as pd\n",
    "import numpy as np\n",
    "import seaborn as sns\n",
    "from matplotlib import cm"
   ]
  },
  {
   "cell_type": "code",
   "execution_count": 2,
   "metadata": {
    "collapsed": false
   },
   "outputs": [],
   "source": [
    "df = pd.read_csv('../../dataSandbox/forPelican/nbaWiggins.csv')"
   ]
  },
  {
   "cell_type": "code",
   "execution_count": 3,
   "metadata": {
    "collapsed": false
   },
   "outputs": [
    {
     "name": "stderr",
     "output_type": "stream",
     "text": [
      "/Users/Peter/anaconda/lib/python2.7/site-packages/pandas/core/indexing.py:266: SettingWithCopyWarning: \n",
      "A value is trying to be set on a copy of a slice from a DataFrame.\n",
      "Try using .loc[row_indexer,col_indexer] = value instead\n",
      "\n",
      "See the caveats in the documentation: http://pandas.pydata.org/pandas-docs/stable/indexing.html#indexing-view-versus-copy\n",
      "  self.obj[key] = _infer_fill_value(value)\n",
      "/Users/Peter/anaconda/lib/python2.7/site-packages/pandas/core/indexing.py:426: SettingWithCopyWarning: \n",
      "A value is trying to be set on a copy of a slice from a DataFrame.\n",
      "Try using .loc[row_indexer,col_indexer] = value instead\n",
      "\n",
      "See the caveats in the documentation: http://pandas.pydata.org/pandas-docs/stable/indexing.html#indexing-view-versus-copy\n",
      "  self.obj[item] = s\n"
     ]
    }
   ],
   "source": [
    "allShots = df[np.invert(np.isnan(df.SHOT_CLOCK))]\n",
    "cMin,cSec = allShots.loc[:,'GAME_CLOCK'].str.split(':').str.get(0),allShots.loc[:,'GAME_CLOCK'].str.split(':').str.get(1)\n",
    "allShots.loc[:,'secGameClock'] = cMin.astype('int') * 60 + cSec.astype('int')"
   ]
  },
  {
   "cell_type": "markdown",
   "metadata": {},
   "source": [
    "### Dummify variables"
   ]
  },
  {
   "cell_type": "code",
   "execution_count": 4,
   "metadata": {
    "collapsed": false
   },
   "outputs": [],
   "source": [
    "pd.get_dummies(allShots[['W','LOCATION','FGM']])\n",
    "allShots.loc[:,'gameWon'] = pd.get_dummies(allShots['W'])['W']\n",
    "allShots.loc[:,'homeGame'] = pd.get_dummies(allShots['LOCATION'])['H']\n",
    "allShots.loc[:,'is3Pointer'] = pd.get_dummies(allShots['PTS_TYPE'])[3]\n",
    "q = pd.get_dummies(allShots['PERIOD'])[[2,3,4,5]]\n",
    "q.columns = ['q' + str(i) for i in q.columns]\n",
    "allShots = pd.concat([allShots,q],axis=1)"
   ]
  },
  {
   "cell_type": "markdown",
   "metadata": {},
   "source": [
    "### Clean up"
   ]
  },
  {
   "cell_type": "code",
   "execution_count": 5,
   "metadata": {
    "collapsed": false
   },
   "outputs": [
    {
     "data": {
      "text/plain": [
       "[None, None, None, None, None, None, None, None, None, None, None]"
      ]
     },
     "execution_count": 5,
     "metadata": {},
     "output_type": "execute_result"
    }
   ],
   "source": [
    "dropThese = ['GAME_ID','MATCHUP','CLOSEST_DEFENDER','CLOSEST_DEFENDER_PLAYER_ID','GAME_CLOCK','SHOT_RESULT','LOCATION','W','PERIOD','PTS_TYPE','PTS']\n",
    "[ allShots.drop(i, axis=1, inplace=True) for i in dropThese ] "
   ]
  },
  {
   "cell_type": "markdown",
   "metadata": {},
   "source": [
    "### Import learning algorithms"
   ]
  },
  {
   "cell_type": "code",
   "execution_count": 6,
   "metadata": {
    "collapsed": true
   },
   "outputs": [],
   "source": [
    "from sklearn.linear_model import SGDClassifier, RidgeClassifier, LogisticRegression\n",
    "from sklearn import cross_validation\n",
    "from sklearn.preprocessing import scale, StandardScaler\n",
    "from sklearn.svm import SVC\n",
    "from sklearn.ensemble import RandomForestClassifier, BaggingClassifier"
   ]
  },
  {
   "cell_type": "markdown",
   "metadata": {},
   "source": [
    "### Split the data"
   ]
  },
  {
   "cell_type": "code",
   "execution_count": 7,
   "metadata": {
    "collapsed": true
   },
   "outputs": [],
   "source": [
    "trainShots = allShots[1::2] #Odd rows\n",
    "testShots = allShots[::2] #Even rows"
   ]
  },
  {
   "cell_type": "markdown",
   "metadata": {},
   "source": [
    "### Scale the data\n",
    "Some algorithms are scale invariant, but others aren't. So scale the data for the appropriate algorithms"
   ]
  },
  {
   "cell_type": "markdown",
   "metadata": {},
   "source": [
    "### Pluribus machina\n",
    "Now, we will build a series of function to test machine learning algorithms head-to-head. First, a generalized function to run each learning algorithm."
   ]
  },
  {
   "cell_type": "code",
   "execution_count": 8,
   "metadata": {
    "collapsed": true
   },
   "outputs": [],
   "source": [
    "def runLearning(myData,myMod,trainIdx,testIdx,respVar,scaleIt=False,printMe=False): #Make this a function of train/test set, scale, algorithm\n",
    "    predCol = [col for col in myData.columns if col != respVar]\n",
    "    if scaleIt == True:\n",
    "        myData = pd.DataFrame(scale(myData), index=myData.index, columns=myData.columns)\n",
    "    #else:\n",
    "    #    myData = pd.DataFrame(scale(myData, with_std=False), index=myData.index, columns=myData.columns)\n",
    "    trainSet = eval('myData' + trainIdx).astype(float)\n",
    "    testSet = eval('myData' + testIdx).astype(float)\n",
    "    myEst = eval(myMod)\n",
    "    # Need to binarize data or it will break\n",
    "    trainResp = trainSet[respVar].astype(float)\n",
    "    trainResp.ix[trainResp > 0] = 1\n",
    "    trainResp.ix[trainResp <= 0] = 0\n",
    "    myEst.fit(\n",
    "        trainSet[predCol],\n",
    "        trainResp\n",
    "    )\n",
    "    # Need to binarize data or it will break\n",
    "    testResp = testSet[respVar].astype(float)\n",
    "    testResp.ix[testResp > 0] = 1\n",
    "    testResp.ix[testResp <= 0] = 0\n",
    "    matches = np.count_nonzero(myEst.predict(testSet[predCol]) == testResp)\n",
    "    testLen = testSet.shape[0]\n",
    "    if(printMe==True):\n",
    "        print 'Algorithm used:\\n' + myMod + '    scaled=' + str(scaleIt)\n",
    "        print \"Correctly classified:\\n\" + str(round(float(matches) / testLen * 100,2)) + '%\\n\\n'\n",
    "    else:\n",
    "        return round(float(matches) / testLen * 100,2)"
   ]
  },
  {
   "cell_type": "code",
   "execution_count": 9,
   "metadata": {
    "collapsed": false
   },
   "outputs": [
    {
     "name": "stdout",
     "output_type": "stream",
     "text": [
      "Algorithm used:\n",
      "RandomForestClassifier(n_estimators=100)    scaled=False\n",
      "Correctly classified:\n",
      "63.16%\n",
      "\n",
      "\n",
      "Algorithm used:\n",
      "BaggingClassifier()    scaled=False\n",
      "Correctly classified:\n",
      "60.62%\n",
      "\n",
      "\n"
     ]
    }
   ],
   "source": [
    "runLearning(myData=allShots,myMod='RandomForestClassifier(n_estimators=100)',trainIdx='[1::2]',testIdx='[::2]',respVar='FGM',scaleIt=False,printMe=True) \n",
    "runLearning(myData=allShots,myMod='BaggingClassifier()',trainIdx='[1::2]',testIdx='[::2]',respVar='FGM',scaleIt=False,printMe=True) \n",
    "    \n",
    "#myLearning(myData=allShots,myMod='SGDClassifier(alpha=2)',trainIdx='[1::2]',testIdx='[::2]',respVar='FGM',scaleIt=False,printMe=True) \n",
    "#myLearning(myData=allShots,myMod='RidgeClassifier(alpha=2)',trainIdx='[1::2]',testIdx='[::2]',respVar='FGM',scaleIt=False,printMe=True) \n",
    "#myLearning(myData=allShots,myMod='SVC()',trainIdx='[1::2]',testIdx='[::2]',respVar='FGM',scaleIt=False,printMe=True) \n",
    "#myLearning(myData=allShots,myMod='SVC()',trainIdx='[1::2]',testIdx='[::2]',respVar='FGM',scaleIt=True,printMe=True)\n",
    "#myLearning(myData=allShots,myMod='LogisticRegression()',trainIdx='[1::2]',testIdx='[::2]',respVar='FGM',scaleIt=True,printMe=True) \n",
    "#myLearning(myData=allShots,myMod='LogisticRegression()',trainIdx='[1::2]',testIdx='[::2]',respVar='FGM',scaleIt=False,printMe=True) "
   ]
  },
  {
   "cell_type": "code",
   "execution_count": 10,
   "metadata": {
    "collapsed": false
   },
   "outputs": [
    {
     "data": {
      "text/html": [
       "<div>\n",
       "<table border=\"1\" class=\"dataframe\">\n",
       "  <thead>\n",
       "    <tr style=\"text-align: right;\">\n",
       "      <th></th>\n",
       "      <th>algorithm</th>\n",
       "      <th>accuracy</th>\n",
       "      <th>scaled</th>\n",
       "    </tr>\n",
       "  </thead>\n",
       "  <tbody>\n",
       "    <tr>\n",
       "      <th>0</th>\n",
       "      <td>RandomForestClassifier</td>\n",
       "      <td>63.52</td>\n",
       "      <td>False</td>\n",
       "    </tr>\n",
       "    <tr>\n",
       "      <th>1</th>\n",
       "      <td>BaggingClassifier</td>\n",
       "      <td>59.35</td>\n",
       "      <td>False</td>\n",
       "    </tr>\n",
       "    <tr>\n",
       "      <th>2</th>\n",
       "      <td>SGDClassifier</td>\n",
       "      <td>52.09</td>\n",
       "      <td>False</td>\n",
       "    </tr>\n",
       "    <tr>\n",
       "      <th>3</th>\n",
       "      <td>RidgeClassifier</td>\n",
       "      <td>60.62</td>\n",
       "      <td>False</td>\n",
       "    </tr>\n",
       "    <tr>\n",
       "      <th>4</th>\n",
       "      <td>SVC</td>\n",
       "      <td>54.63</td>\n",
       "      <td>True</td>\n",
       "    </tr>\n",
       "    <tr>\n",
       "      <th>5</th>\n",
       "      <td>LogisticRegression</td>\n",
       "      <td>60.25</td>\n",
       "      <td>False</td>\n",
       "    </tr>\n",
       "  </tbody>\n",
       "</table>\n",
       "</div>"
      ],
      "text/plain": [
       "                algorithm  accuracy scaled\n",
       "0  RandomForestClassifier     63.52  False\n",
       "1       BaggingClassifier     59.35  False\n",
       "2           SGDClassifier     52.09  False\n",
       "3         RidgeClassifier     60.62  False\n",
       "4                     SVC     54.63   True\n",
       "5      LogisticRegression     60.25  False"
      ]
     },
     "execution_count": 10,
     "metadata": {},
     "output_type": "execute_result"
    }
   ],
   "source": [
    "dfPred = pd.DataFrame(columns=['algorithm','accuracy','scaled'])\n",
    "\n",
    "algs = ['RandomForestClassifier(n_estimators=100)','BaggingClassifier()','SGDClassifier(alpha=2)','RidgeClassifier(alpha=2)','SVC()','LogisticRegression()']\n",
    "myScale = ['False','False','False','False','True','False']\n",
    "\n",
    "for i in range(len(algs)):\n",
    "    # Calculate prediction algorithm for scaled/non-scaled data in each algorithm\n",
    "    temp1 = runLearning(myData=allShots,myMod=algs[i],trainIdx='[1::2]',testIdx='[::2]',respVar='FGM',scaleIt=myScale[i])\n",
    "    algName = algs[i]\n",
    "    algName = algName.split('(')[0]\n",
    "    dfPred = dfPred.append({'algorithm': algName, 'accuracy': temp1, 'scaled': myScale[i]}, ignore_index = True)\n",
    "    \n",
    "dfPred"
   ]
  },
  {
   "cell_type": "code",
   "execution_count": 11,
   "metadata": {
    "collapsed": false
   },
   "outputs": [
    {
     "data": {
      "text/html": [
       "<div>\n",
       "<table border=\"1\" class=\"dataframe\">\n",
       "  <thead>\n",
       "    <tr style=\"text-align: right;\">\n",
       "      <th></th>\n",
       "      <th>algorithm</th>\n",
       "      <th>accuracy</th>\n",
       "      <th>scaled</th>\n",
       "    </tr>\n",
       "  </thead>\n",
       "  <tbody>\n",
       "    <tr>\n",
       "      <th>0</th>\n",
       "      <td>RandomForestClassifier</td>\n",
       "      <td>62.98</td>\n",
       "      <td>False</td>\n",
       "    </tr>\n",
       "    <tr>\n",
       "      <th>1</th>\n",
       "      <td>RandomForestClassifier</td>\n",
       "      <td>63.34</td>\n",
       "      <td>False</td>\n",
       "    </tr>\n",
       "    <tr>\n",
       "      <th>2</th>\n",
       "      <td>RandomForestClassifier</td>\n",
       "      <td>62.79</td>\n",
       "      <td>False</td>\n",
       "    </tr>\n",
       "    <tr>\n",
       "      <th>3</th>\n",
       "      <td>RandomForestClassifier</td>\n",
       "      <td>61.52</td>\n",
       "      <td>False</td>\n",
       "    </tr>\n",
       "    <tr>\n",
       "      <th>4</th>\n",
       "      <td>RandomForestClassifier</td>\n",
       "      <td>63.88</td>\n",
       "      <td>False</td>\n",
       "    </tr>\n",
       "  </tbody>\n",
       "</table>\n",
       "</div>"
      ],
      "text/plain": [
       "                algorithm  accuracy scaled\n",
       "0  RandomForestClassifier     62.98  False\n",
       "1  RandomForestClassifier     63.34  False\n",
       "2  RandomForestClassifier     62.79  False\n",
       "3  RandomForestClassifier     61.52  False\n",
       "4  RandomForestClassifier     63.88  False"
      ]
     },
     "execution_count": 11,
     "metadata": {},
     "output_type": "execute_result"
    }
   ],
   "source": [
    "dfPred = pd.DataFrame(columns=['algorithm','accuracy','scaled'])\n",
    "\n",
    "algs = ['RandomForestClassifier(n_estimators=100)','BaggingClassifier()','SGDClassifier(alpha=2)','RidgeClassifier(alpha=2)','SVC()','LogisticRegression()']\n",
    "myScale = ['False','False','False','False','True','False']\n",
    "\n",
    "# Calculate prediction accuracy for each algorithm\n",
    "for i in range(len(algs)):\n",
    "    for j in range(200):    # Sample 200 times to get 95%CI\n",
    "        temp1 = runLearning(myData=allShots,myMod=algs[i],trainIdx='[1::2]',testIdx='[::2]',respVar='FGM',scaleIt=myScale[i])\n",
    "        algName = algs[i]\n",
    "        algName = algName.split('(')[0]\n",
    "        dfPred = dfPred.append({'algorithm': algName, 'accuracy': temp1, 'scaled': myScale[i]}, ignore_index = True)\n",
    "    \n",
    "dfPred.head()"
   ]
  },
  {
   "cell_type": "code",
   "execution_count": 12,
   "metadata": {
    "collapsed": false
   },
   "outputs": [],
   "source": [
    "def get95CI(df,alg):\n",
    "    temp = df.loc[dfPred.algorithm==alg]\n",
    "    temp = temp.sort_values(by='accuracy').reset_index(drop=True)\n",
    "    temp\n",
    "    mean = np.mean(temp.accuracy)  # mean\n",
    "    low95 = mean - temp.ix[4,'accuracy']   # low95\n",
    "    hi95 = temp.ix[194,'accuracy'] - mean # high95\n",
    "    return mean, low95, hi95"
   ]
  },
  {
   "cell_type": "code",
   "execution_count": 13,
   "metadata": {
    "collapsed": false
   },
   "outputs": [
    {
     "data": {
      "text/html": [
       "<div>\n",
       "<table border=\"1\" class=\"dataframe\">\n",
       "  <thead>\n",
       "    <tr style=\"text-align: right;\">\n",
       "      <th></th>\n",
       "      <th>algorithm</th>\n",
       "      <th>mean</th>\n",
       "      <th>low95</th>\n",
       "      <th>high95</th>\n",
       "    </tr>\n",
       "  </thead>\n",
       "  <tbody>\n",
       "    <tr>\n",
       "      <th>0</th>\n",
       "      <td>RandomForestClassifier</td>\n",
       "      <td>62.56955</td>\n",
       "      <td>2.12955</td>\n",
       "      <td>2.22045</td>\n",
       "    </tr>\n",
       "  </tbody>\n",
       "</table>\n",
       "</div>"
      ],
      "text/plain": [
       "                algorithm      mean    low95   high95\n",
       "0  RandomForestClassifier  62.56955  2.12955  2.22045"
      ]
     },
     "execution_count": 13,
     "metadata": {},
     "output_type": "execute_result"
    }
   ],
   "source": [
    "def getAlgStatSummary(df, alg):\n",
    "    algStats = get95CI(df, alg)\n",
    "    df = pd.DataFrame(columns=['algorithm', 'mean', 'low95', 'high95'])\n",
    "    df = df.append({'algorithm': alg, 'mean': algStats[0], 'low95': algStats[1], 'high95': algStats[2]}, ignore_index = True)\n",
    "    return df\n",
    "    \n",
    "getAlgStatSummary(dfPred,'RandomForestClassifier')"
   ]
  },
  {
   "cell_type": "code",
   "execution_count": 14,
   "metadata": {
    "collapsed": false
   },
   "outputs": [
    {
     "data": {
      "text/html": [
       "<div>\n",
       "<table border=\"1\" class=\"dataframe\">\n",
       "  <thead>\n",
       "    <tr style=\"text-align: right;\">\n",
       "      <th></th>\n",
       "      <th>algorithm</th>\n",
       "      <th>mean</th>\n",
       "      <th>low95</th>\n",
       "      <th>high95</th>\n",
       "    </tr>\n",
       "  </thead>\n",
       "  <tbody>\n",
       "    <tr>\n",
       "      <th>4</th>\n",
       "      <td>SGDClassifier</td>\n",
       "      <td>53.05365</td>\n",
       "      <td>6.953650e+00</td>\n",
       "      <td>8.656350e+00</td>\n",
       "    </tr>\n",
       "    <tr>\n",
       "      <th>3</th>\n",
       "      <td>SVC</td>\n",
       "      <td>54.63000</td>\n",
       "      <td>-1.421085e-13</td>\n",
       "      <td>1.421085e-13</td>\n",
       "    </tr>\n",
       "    <tr>\n",
       "      <th>2</th>\n",
       "      <td>BaggingClassifier</td>\n",
       "      <td>59.83510</td>\n",
       "      <td>3.215100e+00</td>\n",
       "      <td>2.774900e+00</td>\n",
       "    </tr>\n",
       "    <tr>\n",
       "      <th>0</th>\n",
       "      <td>LogisticRegression</td>\n",
       "      <td>60.25000</td>\n",
       "      <td>0.000000e+00</td>\n",
       "      <td>0.000000e+00</td>\n",
       "    </tr>\n",
       "    <tr>\n",
       "      <th>5</th>\n",
       "      <td>RidgeClassifier</td>\n",
       "      <td>60.62000</td>\n",
       "      <td>1.918465e-13</td>\n",
       "      <td>-1.918465e-13</td>\n",
       "    </tr>\n",
       "    <tr>\n",
       "      <th>1</th>\n",
       "      <td>RandomForestClassifier</td>\n",
       "      <td>62.56955</td>\n",
       "      <td>2.129550e+00</td>\n",
       "      <td>2.220450e+00</td>\n",
       "    </tr>\n",
       "  </tbody>\n",
       "</table>\n",
       "</div>"
      ],
      "text/plain": [
       "                algorithm      mean         low95        high95\n",
       "4           SGDClassifier  53.05365  6.953650e+00  8.656350e+00\n",
       "3                     SVC  54.63000 -1.421085e-13  1.421085e-13\n",
       "2       BaggingClassifier  59.83510  3.215100e+00  2.774900e+00\n",
       "0      LogisticRegression  60.25000  0.000000e+00  0.000000e+00\n",
       "5         RidgeClassifier  60.62000  1.918465e-13 -1.918465e-13\n",
       "1  RandomForestClassifier  62.56955  2.129550e+00  2.220450e+00"
      ]
     },
     "execution_count": 14,
     "metadata": {},
     "output_type": "execute_result"
    }
   ],
   "source": [
    "dfStats = pd.DataFrame(columns=['algorithm', 'mean', 'low95', 'high95'])\n",
    "for i in  list(set(dfPred.algorithm)):\n",
    "    dfStats = dfStats.append(getAlgStatSummary(dfPred,i),ignore_index=True)\n",
    "dfStats = dfStats.sort_values('mean')\n",
    "dfStats"
   ]
  },
  {
   "cell_type": "code",
   "execution_count": 15,
   "metadata": {
    "collapsed": false
   },
   "outputs": [
    {
     "data": {
      "text/plain": [
       "<matplotlib.text.Text at 0x10a0c2590>"
      ]
     },
     "execution_count": 15,
     "metadata": {},
     "output_type": "execute_result"
    },
    {
     "data": {
      "image/png": "[encoded data removed]",
      "text/plain": [
       "<matplotlib.figure.Figure at 0x10a1420d0>"
      ]
     },
     "metadata": {},
     "output_type": "display_data"
    }
   ],
   "source": [
    "fig = plt.figure(figsize=(3,5), dpi=1600)\n",
    "ax = plt.subplot(111)\n",
    "\n",
    "barPlot = plt.bar(range(6),dfStats.loc[:,'mean'],yerr=[list(dfStats.loc[:,'low95']),list(dfStats.loc[:,'high95'])],alpha=0.5)\n",
    "\n",
    "xticks_pos = [0.65*patch.get_width() + patch.get_xy()[0] for patch in barPlot]\n",
    "plt.xticks([i+0.5 for i in range(6)],dfStats.loc[:,'algorithm'],rotation=45,ha='right')\n",
    "ax.set_ylabel('Prediction accuracy',fontsize=16,fontweight='bold')\n"
   ]
  },
  {
   "cell_type": "code",
   "execution_count": null,
   "metadata": {
    "collapsed": true
   },
   "outputs": [],
   "source": []
  },
  {
   "cell_type": "code",
   "execution_count": 16,
   "metadata": {
    "collapsed": true
   },
   "outputs": [],
   "source": [
    "### Lastly, I want to figure out which variables are most important in prediction"
   ]
  },
  {
   "cell_type": "code",
   "execution_count": 17,
   "metadata": {
    "collapsed": true
   },
   "outputs": [],
   "source": [
    "#Function to find the best C value\n",
    "\n",
    "def findC(cVal):\n",
    "    tempData = allShots\n",
    "    trainSet = eval('tempData' + '[1::2]').astype(float)\n",
    "    testSet = eval('tempData' + '[::2]').astype(float)\n",
    "    \n",
    "    myEst = LogisticRegression(C=cVal)\n",
    "    predCol = [col for col in allShots.columns if col != 'FGM']\n",
    "    predVar = trainSet['FGM'].astype(float)\n",
    "    predVar.ix[predVar>0]=1\n",
    "    predVar.ix[predVar<=0]=0\n",
    "    myEst.fit(\n",
    "        X=trainSet[predCol],\n",
    "        y=predVar\n",
    "    )\n",
    "\n",
    "\n",
    "    testVar = testSet['FGM'].astype(float)\n",
    "    testVar.ix[testVar>0]=1\n",
    "    testVar.ix[testVar<=0]=0\n",
    "    matches = np.count_nonzero(myEst.predict(testSet[predCol]) == testVar)\n",
    "    return matches/float(len(testSet))*100\n",
    "    #return matches"
   ]
  },
  {
   "cell_type": "code",
   "execution_count": 18,
   "metadata": {
    "collapsed": false
   },
   "outputs": [
    {
     "data": {
      "text/plain": [
       "<matplotlib.text.Text at 0x10a3b18d0>"
      ]
     },
     "execution_count": 18,
     "metadata": {},
     "output_type": "execute_result"
    },
    {
     "data": {
      "image/png": "[encoded data removed]",
      "text/plain": [
       "<matplotlib.figure.Figure at 0x10a091f10>"
      ]
     },
     "metadata": {},
     "output_type": "display_data"
    }
   ],
   "source": [
    "fig = plt.figure(figsize=(3,4), dpi=1600)\n",
    "ax = plt.subplot(111)\n",
    "\n",
    "cList=[]\n",
    "for i in [np.power(10,float(i)) for i in np.arange(0,-9,-1)]:\n",
    "    cList.append(findC(i))\n",
    "    \n",
    "cList\n",
    "plt.plot([np.power(10,float(i)) for i in np.arange(0,-9,-1)],cList)\n",
    "ax.set(xscale=\"log\")\n",
    "ax.set_ylim([0,70])\n",
    "plt.plot((0.001, 0.001), (0, 70), 'g--')\n",
    "ax.set_xlabel('\"C\" regulxn coef (small=stringent)',fontsize=16,fontweight='bold')\n",
    "ax.set_ylabel('Prediction accuracy',fontsize=16,fontweight='bold')"
   ]
  },
  {
   "cell_type": "code",
   "execution_count": 19,
   "metadata": {
    "collapsed": false
   },
   "outputs": [],
   "source": [
    "tempData = allShots\n",
    "\n",
    "trainSet = eval('tempData' + '[1::2]').astype(float)\n",
    "testSet = eval('tempData' + '[::2]').astype(float)\n",
    "\n",
    "#myEst = eval('LogisticRegression()')\n",
    "myEst = LogisticRegression(C=0.001)\n",
    "predCol = [col for col in allShots.columns if col != 'FGM']\n",
    "predVar = trainSet['FGM'].astype(float)\n",
    "predVar.ix[predVar>0]=1\n",
    "predVar.ix[predVar<=0]=0\n",
    "myEst.fit(\n",
    "    X=trainSet[predCol],\n",
    "    y=predVar\n",
    ")\n",
    "\n",
    "\n",
    "testVar = testSet['FGM'].astype(float)\n",
    "testVar.ix[testVar>0]=1\n",
    "testVar.ix[testVar<=0]=0\n",
    "\n",
    "#matches = np.count_nonzero(myEst.predict(testSet[predCol]) == testSet['FGM'])\n",
    "#matches = np.count_nonzero(myEst.predict(testSet[predCol]) == testVar)\n",
    "#myEst.predict(testSet[predCol])\n",
    "#myEst.predict(testSet[predCol])\n",
    "#matches\n",
    "#myEst.coef_"
   ]
  },
  {
   "cell_type": "code",
   "execution_count": 20,
   "metadata": {
    "collapsed": false
   },
   "outputs": [
    {
     "data": {
      "image/png": "[encoded data removed]",
      "text/plain": [
       "<matplotlib.figure.Figure at 0x10a3a0f50>"
      ]
     },
     "metadata": {},
     "output_type": "display_data"
    }
   ],
   "source": [
    "#myEst.coef_\n",
    "logR = pd.DataFrame(myEst.coef_)\n",
    "logR.columns=predCol\n",
    "logR\n",
    "\n",
    "fig = plt.figure(figsize=(8,5), dpi=1600)\n",
    "ax = plt.subplot(111)\n",
    "\n",
    "\n",
    "#logR.ix[logR.last_valid_index()]\n",
    "logR.ix[0].argsort()\n",
    "newCol = logR.columns[logR.ix[0].argsort()]\n",
    "logR = logR[newCol]\n",
    "\n",
    "\n",
    "sns.set_style(\"dark\")\n",
    "plt.bar(range(len(predCol)),logR.iloc[0],alpha=0.8,width=1)\n",
    "\n",
    "plt.xticks([i+0.5 for i in range(len(predCol))],logR.columns,rotation=45,ha='right',fontsize=12)\n",
    "plt.yticks(fontsize=12)\n",
    "ax.set_ylabel('Coefficient values',fontsize=18,fontweight='bold')\n",
    "plt.plot((0, 15), (0, 0), 'k-')\n",
    "plt.show()"
   ]
  },
  {
   "cell_type": "code",
   "execution_count": 21,
   "metadata": {
    "collapsed": true
   },
   "outputs": [],
   "source": [
    "#working\n",
    "def compareDist(myVar,myTitle,df=allShots,myHist=False):\n",
    "    made = df.loc[df['FGM']==True]\n",
    "    missed = df.loc[df['FGM']==False]\n",
    "    sns.distplot(made[myVar],hist=myHist,label=\"made shots\")\n",
    "    sns.distplot(missed[myVar],hist=myHist,label=\"missed shots\")\n",
    "    plt.legend();\n",
    "    plt.title(myTitle,fontsize=16)"
   ]
  },
  {
   "cell_type": "code",
   "execution_count": 22,
   "metadata": {
    "collapsed": true
   },
   "outputs": [],
   "source": [
    "# In development...\n",
    "def compareDist(myVar,myTitle,df=allShots,myHist=False):\n",
    "    made = df.loc[df['FGM'] == True]\n",
    "    missed = df.loc[df['FGM']  == False]\n",
    "    sns.distplot(made[myVar],hist=myHist,label=\"made shots\")\n",
    "    sns.distplot(missed[myVar],hist=myHist,label=\"missed shots\")\n",
    "    plt.legend();\n",
    "    plt.title(myTitle,fontsize=16)\n"
   ]
  },
  {
   "cell_type": "code",
   "execution_count": 23,
   "metadata": {
    "collapsed": false
   },
   "outputs": [
    {
     "name": "stdout",
     "output_type": "stream",
     "text": [
      "histHeights= [ 0.1071753   0.21071753  0.21707539  0.14804723  0.14713896  0.06993642\n",
      "  0.04359673  0.02179837  0.00726612  0.00544959  0.0027248   0.00454133\n",
      "  0.0027248   0.00181653  0.00090827  0.0027248   0.00454133  0.00090827\n",
      "  0.00090827]\n",
      "histBins= [ 0  1  2  3  4  5  6  7  8  9 10 11 12 13 14 15 16 17 18 19]\n"
     ]
    },
    {
     "data": {
      "image/png": "[encoded data removed]",
      "text/plain": [
       "<matplotlib.figure.Figure at 0x10a0b9790>"
      ]
     },
     "metadata": {},
     "output_type": "display_data"
    }
   ],
   "source": [
    "#np.mean(made['CLOSE_DEF_DIST'])\n",
    "#plt.hist(made['CLOSE_DEF_DIST'])\n",
    "#plt.hist(np.random.randn(100))\n",
    "myBins = [i for i in range(20)]\n",
    "histHeights, histBins, c = plt.hist(np.array(allShots['CLOSE_DEF_DIST']),normed=True,bins=myBins)\n",
    "print 'histHeights= ' + str(histHeights) #+ '\\n\\n'\n",
    "print 'histBins= ' + str(histBins) #+ '\\n\\n'\n",
    "#print 'c= ' + str(c) #+ '\\n\\n'\n"
   ]
  },
  {
   "cell_type": "code",
   "execution_count": 24,
   "metadata": {
    "collapsed": false
   },
   "outputs": [],
   "source": [
    "#allShots.loc[allShots['gameWon']==1]\n",
    "myVar='q2'\n",
    "df=allShots\n",
    "cond='==1'\n",
    "#q2\n",
    "#print 'df.loc[df[\"' + str(myVar) + '\"]' + str(cond) + ']'\n",
    "#eval('df.loc[df[\"' + str(myVar) + '\"]' + str(cond) + ']')\n",
    "#df.loc[df['q2']==1]"
   ]
  },
  {
   "cell_type": "code",
   "execution_count": 25,
   "metadata": {
    "collapsed": false
   },
   "outputs": [],
   "source": [
    "dfSub=eval('df.loc[df[\"' + str(myVar) + '\"]' + str(cond) + ']')\n",
    "made = dfSub.loc[dfSub['FGM']==True]\n",
    "missed = dfSub.loc[dfSub['FGM']==False]\n",
    "#missed\n",
    "    #print made.head()\n",
    "    #print missed.head()\n",
    "\n",
    "#sns.distplot(made[myVar],hist=False,label=\"made shots\")\n",
    "#sns.distplot(missed[myVar],hist=False,label=\"missed shots\")\n",
    "#plt.legend();\n"
   ]
  },
  {
   "cell_type": "code",
   "execution_count": 26,
   "metadata": {
    "collapsed": false
   },
   "outputs": [
    {
     "data": {
      "image/png": "[encoded data removed]",
      "text/plain": [
       "<matplotlib.figure.Figure at 0x109ad8710>"
      ]
     },
     "metadata": {},
     "output_type": "display_data"
    }
   ],
   "source": [
    "fig = plt.figure(figsize=(6.5,6.5), dpi=1600)\n",
    "#plt.subplot(211)\n",
    "plt.subplot(2,2,1)\n",
    "compareDist('SHOT_DIST','Long shots predict miss')\n",
    "plt.subplot(2,2,2)\n",
    "compareDist('SHOT_CLOCK','Hi shot clock pred. make')\n",
    "plt.subplot(2,2,3)\n",
    "compareDist('CLOSE_DEF_DIST','Dfnd dist inconclusive??',myHist=False)\n",
    "plt.subplot(2,2,4)\n",
    "compareDist('FINAL_MARGIN','Negative control')\n",
    "#compareDist('SHOT_DIST')\n",
    "plt.tight_layout()"
   ]
  },
  {
   "cell_type": "code",
   "execution_count": 27,
   "metadata": {
    "collapsed": true
   },
   "outputs": [],
   "source": [
    "# This one works\n",
    "def calcShootPercDist(d,myVar):\n",
    "    tempDist = eval('df.loc[(df.' + str(myVar) + ' > d) & (df.' + str(myVar) + ' < (d+1))]')\n",
    "    tempTotal = len(tempDist)\n",
    "    tempFgm = tempDist.loc[tempDist.FGM==1]\n",
    "    #tempMissed = tempDist.loc[tempDist.FGM==1]\n",
    "    return len(tempFgm)/float(tempTotal)*100"
   ]
  },
  {
   "cell_type": "code",
   "execution_count": 103,
   "metadata": {
    "collapsed": false
   },
   "outputs": [
    {
     "data": {
      "text/plain": [
       "28"
      ]
     },
     "execution_count": 103,
     "metadata": {},
     "output_type": "execute_result"
    }
   ],
   "source": [
    "int(np.ceil(max(allShots['SHOT_DIST'])))\n"
   ]
  },
  {
   "cell_type": "code",
   "execution_count": 89,
   "metadata": {
    "collapsed": false
   },
   "outputs": [
    {
     "data": {
      "image/png": "[encoded data removed]",
      "text/plain": [
       "<matplotlib.figure.Figure at 0x12d611b90>"
      ]
     },
     "metadata": {},
     "output_type": "display_data"
    }
   ],
   "source": [
    "fig = plt.figure(figsize=(10,4), dpi=1600)\n",
    "\n",
    "dfDefDist = pd.DataFrame(columns=['SHOT_DIST'])\n",
    "\n",
    "myBins = [i for i in range(27)]\n",
    "for i in myBins:\n",
    "    madePerc = calcShootPercDist(i,'SHOT_DIST')\n",
    "    dfDefDist = dfDefDist.append({'madePerc': madePerc},ignore_index=True)\n",
    "    \n",
    "histHeights, histBins, c = plt.hist(np.array(allShots['CLOSE_DEF_DIST']),normed=True,bins=len(myBins))\n",
    "dfDefDist['density'] = histHeights\n",
    "\n",
    "myCols = cm.RdBu(dfDefDist['density']/max(dfDefDist['density']))\n",
    "\n"
   ]
  },
  {
   "cell_type": "code",
   "execution_count": 111,
   "metadata": {
    "collapsed": false
   },
   "outputs": [
    {
     "data": {
      "image/png": "[encoded data removed]",
      "text/plain": [
       "<matplotlib.figure.Figure at 0x10d3dd050>"
      ]
     },
     "metadata": {},
     "output_type": "display_data"
    }
   ],
   "source": [
    "#Works! \n",
    "#Make as a function of myVar\n",
    "myVar='SHOT_DIST'\n",
    "myVar='CLOSE_DEF_DIST'\n",
    "#myVar='SHOT_CLOCK'\n",
    "\n",
    "fig = plt.figure(figsize=(10,4), dpi=1600)\n",
    "\n",
    "maxVal = int(np.ceil(max(allShots[myVar])))\n",
    "dfDefDist = pd.DataFrame(columns=['madePerc'])\n",
    "\n",
    "myBins = [i for i in range(maxVal)]\n",
    "for i in myBins:\n",
    "    madePerc = calcShootPercDist(i,myVar)\n",
    "    dfDefDist = dfDefDist.append({'madePerc': madePerc},ignore_index=True)\n",
    "    \n",
    "histHeights, histBins, c = plt.hist(np.array(allShots[myVar]),normed=True,bins=len(myBins))\n",
    "dfDefDist['density'] = histHeights\n",
    "#dfDefDist['density'] = dfDefDist['density']/max(dfDefDist['density'])\n",
    "\n",
    "myCols = cm.RdBu(dfDefDist['density']/max(dfDefDist['density']))\n",
    "\n",
    "cax = ax.imshow(dfDefDist[['density']], interpolation='nearest', cmap=cm.RdBu)\n",
    "fig.clf() #clear the histogram and the `imshow` image\n",
    "\n",
    "ax = plt.subplot(111)\n",
    "ax.set_ylim(0,100)\n",
    "ax.set_xlim(0,maxVal-1)\n",
    "\n",
    "spData = dfDefDist['madePerc']\n",
    "for i in range(len(spData)-1):\n",
    "    plt.plot([i,i+1],[spData[i], spData[i+1]],color=([j for  j in myCols[i+1]][0:3]))\n",
    "\n",
    "ax.set_ylabel('Shooting %',fontsize=16)\n",
    "ax.set_xlabel(myVar,fontsize=16)\n",
    "\n",
    "\n",
    "#cax = ax.imshow(dfDefDist[['density']], interpolation='nearest', cmap=cm.RdBu)\n",
    "#fig.colorbar(cax)\n",
    "plt.colorbar(cax)\n",
    "\n",
    "plt.show()"
   ]
  },
  {
   "cell_type": "code",
   "execution_count": null,
   "metadata": {
    "collapsed": false
   },
   "outputs": [],
   "source": [
    "\n",
    "#ax.clf()\n",
    "plt.show()"
   ]
  },
  {
   "cell_type": "code",
   "execution_count": null,
   "metadata": {
    "collapsed": false
   },
   "outputs": [],
   "source": [
    "#Works! Now just color code according to histogram heights\n",
    "\n",
    "fig = plt.figure(figsize=(5,4), dpi=1600)\n",
    "ax = plt.subplot(111)\n",
    "ax.set_ylim(0,100)\n",
    "ax.set_xlim(0,19)\n",
    "\n",
    "#plt.plot(dfDefDist['madePerc'])\n",
    "spData = dfDefDist['madePerc']\n",
    "for i in range(len(spData)-1):\n",
    "    #print spData[i], spData[i+1]\n",
    "    plt.plot([i,i+1],[spData[i], spData[i+1]])\n",
    "\n",
    "#plt.plot(x=[i,i+1],y=[spData[i], spData[i+1]])\n",
    "#?plt.plot\n"
   ]
  },
  {
   "cell_type": "code",
   "execution_count": null,
   "metadata": {
    "collapsed": false
   },
   "outputs": [],
   "source": [
    "#This works\n",
    "dfDefDist = pd.DataFrame(columns=['madePerc'])\n",
    "\n",
    "distBin = np.arange(0, 19, 1)\n",
    "for i in distBin:\n",
    "    madePerc = calcShootPercDist(i,'SHOT_DIST')\n",
    "    dfDefDist = dfDefDist.append({'madePerc': madePerc},ignore_index=True)\n",
    "dfDefDist"
   ]
  },
  {
   "cell_type": "code",
   "execution_count": null,
   "metadata": {
    "collapsed": false
   },
   "outputs": [],
   "source": [
    "\n",
    "plt.plot(dfDefDist['madePerc'])\n"
   ]
  },
  {
   "cell_type": "code",
   "execution_count": null,
   "metadata": {
    "collapsed": false
   },
   "outputs": [],
   "source": [
    "def getDefDist_ShootPerc():\n",
    "    print 'hi'"
   ]
  },
  {
   "cell_type": "code",
   "execution_count": null,
   "metadata": {
    "collapsed": true
   },
   "outputs": [],
   "source": []
  },
  {
   "cell_type": "code",
   "execution_count": null,
   "metadata": {
    "collapsed": false
   },
   "outputs": [],
   "source": [
    "made3 = df.loc[(df.is3Pointer==True) & (df.FGM==1)]\n",
    "missed3 = df.loc[(df.is3Pointer==True) & (df.FGM==0)]\n",
    "\n",
    "sns.distplot(made3['CLOSE_DEF_DIST'],hist=True,label=\"made shots\")\n",
    "sns.distplot(missed3['CLOSE_DEF_DIST'],hist=True,label=\"missed shots\")\n",
    "\n",
    "#df.loc[df['FGM']==False]"
   ]
  },
  {
   "cell_type": "code",
   "execution_count": null,
   "metadata": {
    "collapsed": false
   },
   "outputs": [],
   "source": [
    "made2 = df.loc[(df.is3Pointer==False) & (df.FGM==1)]\n",
    "missed2 = df.loc[(df.is3Pointer==False) & (df.FGM==0)]\n",
    "\n",
    "sns.distplot(made2['CLOSE_DEF_DIST'],hist=True,label=\"made shots\")\n",
    "sns.distplot(missed2['CLOSE_DEF_DIST'],hist=True,label=\"missed shots\")\n",
    "\n",
    "#df.loc[df['FGM']==False]"
   ]
  },
  {
   "cell_type": "markdown",
   "metadata": {},
   "source": [
    "#### Should test if:\n",
    "1. is shot% higher in OT vs 3rd quarter?\n",
    "2. Is shot percentage higher in games won?\n",
    "\n",
    "Is 3-pointer less explanatory because it is convolved into shot distance already?\n",
    "\n",
    "\n"
   ]
  },
  {
   "cell_type": "code",
   "execution_count": null,
   "metadata": {
    "collapsed": false
   },
   "outputs": [],
   "source": [
    "# Look at differences between won and lost games\n",
    "\n",
    "won = allShots.loc[allShots['gameWon']==1]\n",
    "lost = allShots.loc[allShots['gameWon']==0]\n",
    "\n",
    "print 'Shots taken in games won:    ' + str(len(won))\n",
    "print 'Shots taken in games lost:   ' + str(len(lost)) + '\\n\\n'\n",
    "\n",
    "print 'Shooting percentage in games won:   ' + str(round(np.sum(won['FGM'])/float(len(won))*100,1))\n",
    "print 'Shooting percentage in games lost:  ' + str(round(np.sum(lost['FGM'])/float(len(lost))*100,1))"
   ]
  },
  {
   "cell_type": "code",
   "execution_count": null,
   "metadata": {
    "collapsed": false
   },
   "outputs": [],
   "source": [
    "# Look at close/far defender\n",
    "\n",
    "near = allShots.loc[allShots['CLOSE_DEF_DIST']<23]\n",
    "far = allShots.loc[allShots['CLOSE_DEF_DIST']>23]\n",
    "\n",
    "print 'Shots taken near:    ' + str(len(near))\n",
    "print 'Shots taken far:   ' + str(len(far)) + '\\n\\n'\n",
    "\n",
    "print 'Shooting percentage near:   ' + str(round(np.sum(near['FGM'])/float(len(near))*100,1))\n",
    "print 'Shooting percentage far:  ' + str(round(np.sum(far['FGM'])/float(len(far))*100,1))"
   ]
  },
  {
   "cell_type": "code",
   "execution_count": null,
   "metadata": {
    "collapsed": false
   },
   "outputs": [],
   "source": [
    "# Look at 3rd quarter and OT\n",
    "\n",
    "q1 =  allShots.loc[(allShots['q2']==0) & (allShots['q3']==0) & (allShots['q4']==0) & (allShots['q5']==0)]\n",
    "q2  = allShots.loc[allShots['q2']==1]\n",
    "q3  = allShots.loc[allShots['q3']==1]\n",
    "q4  = allShots.loc[allShots['q4']==1]\n",
    "qOT = allShots.loc[allShots['q5']==1]\n",
    "\n",
    "print 'Shots taken in q1:    ' + str(len(q1))\n",
    "print 'Shots taken in q2:    ' + str(len(q2))\n",
    "print 'Shots taken in q3:    ' + str(len(q3))\n",
    "print 'Shots taken in q4:    ' + str(len(q4))\n",
    "print 'Shots taken in qOT:   ' + str(len(qOT)) + '\\n\\n'\n",
    "\n",
    "\n",
    "print np.sum(q1['FGM'])/float(len(q1))*100\n",
    "print np.sum(q2['FGM'])/float(len(q2))*100\n",
    "print np.sum(q3['FGM'])/float(len(q3))*100\n",
    "print np.sum(q4['FGM'])/float(len(q4))*100\n",
    "print np.sum(qOT['FGM'])/float(len(qOT))*100"
   ]
  },
  {
   "cell_type": "code",
   "execution_count": null,
   "metadata": {
    "collapsed": false
   },
   "outputs": [],
   "source": [
    "qOT['FGM']"
   ]
  },
  {
   "cell_type": "code",
   "execution_count": null,
   "metadata": {
    "collapsed": false
   },
   "outputs": [],
   "source": [
    "np.sum(allShots['FGM'])/float(len(allShots))*100"
   ]
  },
  {
   "cell_type": "code",
   "execution_count": null,
   "metadata": {
    "collapsed": false
   },
   "outputs": [],
   "source": [
    "#allShots"
   ]
  },
  {
   "cell_type": "code",
   "execution_count": null,
   "metadata": {
    "collapsed": true
   },
   "outputs": [],
   "source": [
    "?sns.distplot"
   ]
  },
  {
   "cell_type": "code",
   "execution_count": null,
   "metadata": {
    "collapsed": true
   },
   "outputs": [],
   "source": []
  }
 ],
 "metadata": {
  "kernelspec": {
   "display_name": "Python 2",
   "language": "python",
   "name": "python2"
  }
 },
 "nbformat": 4,
 "nbformat_minor": 0
}
