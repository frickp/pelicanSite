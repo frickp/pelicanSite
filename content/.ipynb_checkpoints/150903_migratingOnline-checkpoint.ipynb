{
 "cells": [
  {
   "cell_type": "markdown",
   "metadata": {},
   "source": [
    "This is the first iPython notebook I'm adding online. The goal of this notebook is more to learn the syntax, etc.\n",
    "For example, one asterisk makes text *italic*. Two asterisks makes text **bold**. Putting 2 dollar signs before and after an expression gives an equation:\n",
    "\n",
    "$$y=10*x$$\n",
    "\n",
    "An equation can be displayed inline with the text by adding a single dollar sign on\n",
    "either side of the expression, like so: $y=sin(x)$\n",
    "    \n",
    "This is a good website to remember for markdown:\n",
    "http://nestacms.com/docs/creating-content/markdown-cheat-sheet\n",
    "    \n",
    "And for when you come up with something quotable, use a greater-than key\n",
    "> Be inspired!\n",
    "\n",
    "Okay, now on to some plots!\n",
    "*First*, load the dependencies"
   ]
  },
  {
   "cell_type": "code",
   "execution_count": 29,
   "metadata": {
    "collapsed": false
   },
   "outputs": [],
   "source": [
    "import pandas as pd\n",
    "import numpy as np\n",
    "import matplotlib as plt\n",
    "import pylab as pl\n",
    "from sklearn import linear_model\n",
    "#import statsmodels.api as sm\n",
    "%matplotlib inline"
   ]
  },
  {
   "cell_type": "markdown",
   "metadata": {},
   "source": [
    "Now generate a dataset of a line with some noise built in and see what it looks like..."
   ]
  },
  {
   "cell_type": "code",
   "execution_count": 12,
   "metadata": {
    "collapsed": true
   },
   "outputs": [],
   "source": [
    "#Set a randomization seed for reproducibility\n",
    "np.random.seed(1)\n",
    "d = np.arange(0,10,0.1)\n",
    "df = pd.DataFrame({'x': d})\n",
    "df['y']=df['x']*0.5+2 + np.random.randn(len(d))"
   ]
  },
  {
   "cell_type": "code",
   "execution_count": 13,
   "metadata": {
    "collapsed": false
   },
   "outputs": [
    {
     "data": {
      "text/plain": [
       "[<matplotlib.lines.Line2D at 0x10ec541d0>]"
      ]
     },
     "execution_count": 13,
     "metadata": {},
     "output_type": "execute_result"
    },
    {
     "data": {
      "image/png": "[encoded data removed]",
      "text/plain": [
       "<matplotlib.figure.Figure at 0x10dbb0350>"
      ]
     },
     "metadata": {},
     "output_type": "display_data"
    }
   ],
   "source": [
    "pl.plot(df['x'],df['y'])"
   ]
  },
  {
   "cell_type": "code",
   "execution_count": 27,
   "metadata": {
    "collapsed": false
   },
   "outputs": [
    {
     "name": "stdout",
     "output_type": "stream",
     "text": [
      "          0         1\n",
      "x  0.773937  0.864305\n"
     ]
    }
   ],
   "source": [
    "m=sm.OLS(df['y'],df['x']).fit()\n",
    "print m.conf_int()\n",
    "#m.summary()"
   ]
  },
  {
   "cell_type": "code",
   "execution_count": 48,
   "metadata": {
    "collapsed": false
   },
   "outputs": [],
   "source": [
    "#m=linear_model.LinearRegression()\n",
    "#m.fit(df['x'],df['y'])\n",
    "\n"
   ]
  }
 ],
 "metadata": {
  "kernelspec": {
   "display_name": "Python 2",
   "language": "python",
   "name": "python2"
  },
  "language_info": {
   "codemirror_mode": {
    "name": "ipython",
    "version": 2
   },
   "file_extension": ".py",
   "mimetype": "text/x-python",
   "name": "python",
   "nbconvert_exporter": "python",
   "pygments_lexer": "ipython2",
   "version": "2.7.10"
  }
 },
 "nbformat": 4,
 "nbformat_minor": 0
}
