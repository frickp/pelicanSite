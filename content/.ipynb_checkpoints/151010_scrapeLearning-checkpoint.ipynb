{
 "cells": [
  {
   "cell_type": "markdown",
   "metadata": {},
   "source": [
    "My goal is to learn how to scrape data using python.\n",
    "\n",
    "This is my first time scraping from the web. I found [this documentation](http://www.gregreda.com/2015/02/15/web-scraping-finding-the-api/) *extremely* helpful. Here, I'm pulling in the shot log for Andrew Wiggins, the NBA Rookie of the Year last year."
   ]
  },
  {
   "cell_type": "code",
   "execution_count": 14,
   "metadata": {
    "collapsed": false
   },
   "outputs": [],
   "source": [
    "%matplotlib inline\n",
    "import requests\n",
    "import json\n",
    "import pandas as pd\n",
    "import matplotlib.pylab as plt\n",
    "import numpy as np"
   ]
  },
  {
   "cell_type": "markdown",
   "metadata": {},
   "source": [
    "To get the info needed, you can navigate to the website that gives the data you want. Using Chrome developer tools, you can navigate to find the API and see the structure of the request by previewing it."
   ]
  },
  {
   "cell_type": "code",
   "execution_count": 15,
   "metadata": {
    "collapsed": false
   },
   "outputs": [],
   "source": [
    "shotsUrl = 'http://stats.nba.com/stats/playerdashptshotlog?' + \\\n",
    "    'DateFrom=&DateTo=&GameSegment=&LastNGames=0&LeagueID=00' + \\\n",
    "    '&Location=&Month=0&OpponentTeamID=0&Outcome=&Period=0' + \\\n",
    "    '&PlayerID=203952&Season=2014-15&SeasonSegment=&SeasonType=' + \\\n",
    "    'Regular+Season&TeamID=0&VsConference=&VsDivision='"
   ]
  },
  {
   "cell_type": "markdown",
   "metadata": {},
   "source": [
    "Now, use `requests` to get the data back in json format "
   ]
  },
  {
   "cell_type": "code",
   "execution_count": 16,
   "metadata": {
    "collapsed": false
   },
   "outputs": [],
   "source": [
    "response = requests.get(shotsUrl)\n",
    "response.raise_for_status()\n",
    "shots = response.json()['resultSets'][0]['rowSet']\n",
    "colNames = response.json()['resultSets'][0]['headers']"
   ]
  },
  {
   "cell_type": "markdown",
   "metadata": {},
   "source": [
    "Now, having all the data in memory, arrange it and put it in a dataframe."
   ]
  },
  {
   "cell_type": "code",
   "execution_count": 17,
   "metadata": {
    "collapsed": false
   },
   "outputs": [
    {
     "data": {
      "text/html": [
       "<div>\n",
       "<table border=\"1\" class=\"dataframe\">\n",
       "  <thead>\n",
       "    <tr style=\"text-align: right;\">\n",
       "      <th></th>\n",
       "      <th>GAME_ID</th>\n",
       "      <th>MATCHUP</th>\n",
       "      <th>LOCATION</th>\n",
       "      <th>W</th>\n",
       "      <th>FINAL_MARGIN</th>\n",
       "      <th>SHOT_NUMBER</th>\n",
       "      <th>PERIOD</th>\n",
       "      <th>GAME_CLOCK</th>\n",
       "      <th>SHOT_CLOCK</th>\n",
       "      <th>DRIBBLES</th>\n",
       "      <th>TOUCH_TIME</th>\n",
       "      <th>SHOT_DIST</th>\n",
       "      <th>PTS_TYPE</th>\n",
       "      <th>SHOT_RESULT</th>\n",
       "      <th>CLOSEST_DEFENDER</th>\n",
       "      <th>CLOSEST_DEFENDER_PLAYER_ID</th>\n",
       "      <th>CLOSE_DEF_DIST</th>\n",
       "      <th>FGM</th>\n",
       "      <th>PTS</th>\n",
       "    </tr>\n",
       "  </thead>\n",
       "  <tbody>\n",
       "    <tr>\n",
       "      <th>0</th>\n",
       "      <td>0021401222</td>\n",
       "      <td>APR 15, 2015 - MIN vs. OKC</td>\n",
       "      <td>H</td>\n",
       "      <td>L</td>\n",
       "      <td>-25</td>\n",
       "      <td>1</td>\n",
       "      <td>1</td>\n",
       "      <td>11:23</td>\n",
       "      <td>11.9</td>\n",
       "      <td>1</td>\n",
       "      <td>3.6</td>\n",
       "      <td>10.5</td>\n",
       "      <td>2</td>\n",
       "      <td>missed</td>\n",
       "      <td>Roberson, Andre</td>\n",
       "      <td>203460</td>\n",
       "      <td>3.0</td>\n",
       "      <td>0</td>\n",
       "      <td>0</td>\n",
       "    </tr>\n",
       "    <tr>\n",
       "      <th>1</th>\n",
       "      <td>0021401222</td>\n",
       "      <td>APR 15, 2015 - MIN vs. OKC</td>\n",
       "      <td>H</td>\n",
       "      <td>L</td>\n",
       "      <td>-25</td>\n",
       "      <td>2</td>\n",
       "      <td>1</td>\n",
       "      <td>5:34</td>\n",
       "      <td>9.5</td>\n",
       "      <td>2</td>\n",
       "      <td>4.2</td>\n",
       "      <td>12.2</td>\n",
       "      <td>2</td>\n",
       "      <td>made</td>\n",
       "      <td>Morrow, Anthony</td>\n",
       "      <td>201627</td>\n",
       "      <td>2.3</td>\n",
       "      <td>1</td>\n",
       "      <td>2</td>\n",
       "    </tr>\n",
       "    <tr>\n",
       "      <th>2</th>\n",
       "      <td>0021401222</td>\n",
       "      <td>APR 15, 2015 - MIN vs. OKC</td>\n",
       "      <td>H</td>\n",
       "      <td>L</td>\n",
       "      <td>-25</td>\n",
       "      <td>3</td>\n",
       "      <td>1</td>\n",
       "      <td>1:58</td>\n",
       "      <td>6.0</td>\n",
       "      <td>0</td>\n",
       "      <td>1.0</td>\n",
       "      <td>24.5</td>\n",
       "      <td>3</td>\n",
       "      <td>missed</td>\n",
       "      <td>Kanter, Enes</td>\n",
       "      <td>202683</td>\n",
       "      <td>7.0</td>\n",
       "      <td>0</td>\n",
       "      <td>0</td>\n",
       "    </tr>\n",
       "    <tr>\n",
       "      <th>3</th>\n",
       "      <td>0021401222</td>\n",
       "      <td>APR 15, 2015 - MIN vs. OKC</td>\n",
       "      <td>H</td>\n",
       "      <td>L</td>\n",
       "      <td>-25</td>\n",
       "      <td>4</td>\n",
       "      <td>2</td>\n",
       "      <td>10:46</td>\n",
       "      <td>14.9</td>\n",
       "      <td>0</td>\n",
       "      <td>0.9</td>\n",
       "      <td>24.9</td>\n",
       "      <td>3</td>\n",
       "      <td>missed</td>\n",
       "      <td>Collison, Nick</td>\n",
       "      <td>2555</td>\n",
       "      <td>7.4</td>\n",
       "      <td>0</td>\n",
       "      <td>0</td>\n",
       "    </tr>\n",
       "    <tr>\n",
       "      <th>4</th>\n",
       "      <td>0021401222</td>\n",
       "      <td>APR 15, 2015 - MIN vs. OKC</td>\n",
       "      <td>H</td>\n",
       "      <td>L</td>\n",
       "      <td>-25</td>\n",
       "      <td>5</td>\n",
       "      <td>2</td>\n",
       "      <td>7:12</td>\n",
       "      <td>14.8</td>\n",
       "      <td>1</td>\n",
       "      <td>2.2</td>\n",
       "      <td>4.2</td>\n",
       "      <td>2</td>\n",
       "      <td>missed</td>\n",
       "      <td>Adams, Steven</td>\n",
       "      <td>203500</td>\n",
       "      <td>3.3</td>\n",
       "      <td>0</td>\n",
       "      <td>0</td>\n",
       "    </tr>\n",
       "  </tbody>\n",
       "</table>\n",
       "</div>"
      ],
      "text/plain": [
       "      GAME_ID                     MATCHUP LOCATION  W  FINAL_MARGIN  \\\n",
       "0  0021401222  APR 15, 2015 - MIN vs. OKC        H  L           -25   \n",
       "1  0021401222  APR 15, 2015 - MIN vs. OKC        H  L           -25   \n",
       "2  0021401222  APR 15, 2015 - MIN vs. OKC        H  L           -25   \n",
       "3  0021401222  APR 15, 2015 - MIN vs. OKC        H  L           -25   \n",
       "4  0021401222  APR 15, 2015 - MIN vs. OKC        H  L           -25   \n",
       "\n",
       "   SHOT_NUMBER  PERIOD GAME_CLOCK  SHOT_CLOCK  DRIBBLES  TOUCH_TIME  \\\n",
       "0            1       1      11:23        11.9         1         3.6   \n",
       "1            2       1       5:34         9.5         2         4.2   \n",
       "2            3       1       1:58         6.0         0         1.0   \n",
       "3            4       2      10:46        14.9         0         0.9   \n",
       "4            5       2       7:12        14.8         1         2.2   \n",
       "\n",
       "   SHOT_DIST  PTS_TYPE SHOT_RESULT CLOSEST_DEFENDER  \\\n",
       "0       10.5         2      missed  Roberson, Andre   \n",
       "1       12.2         2        made  Morrow, Anthony   \n",
       "2       24.5         3      missed     Kanter, Enes   \n",
       "3       24.9         3      missed   Collison, Nick   \n",
       "4        4.2         2      missed    Adams, Steven   \n",
       "\n",
       "   CLOSEST_DEFENDER_PLAYER_ID  CLOSE_DEF_DIST  FGM  PTS  \n",
       "0                      203460             3.0    0    0  \n",
       "1                      201627             2.3    1    2  \n",
       "2                      202683             7.0    0    0  \n",
       "3                        2555             7.4    0    0  \n",
       "4                      203500             3.3    0    0  "
      ]
     },
     "execution_count": 17,
     "metadata": {},
     "output_type": "execute_result"
    }
   ],
   "source": [
    "dfShots = pd.DataFrame(shots,columns=colNames)\n",
    "dfShots.head()"
   ]
  },
  {
   "cell_type": "markdown",
   "metadata": {},
   "source": [
    "There's a lot of data here. Let's just start with a quick analysis of how much time was on the shot clock when Wiggins shot the ball."
   ]
  },
  {
   "cell_type": "code",
   "execution_count": 18,
   "metadata": {
    "collapsed": false,
    "scrolled": true
   },
   "outputs": [
    {
     "data": {
      "image/png": "[encoded data removed]",
      "text/plain": [
       "<matplotlib.figure.Figure at 0x109af8850>"
      ]
     },
     "metadata": {},
     "output_type": "display_data"
    }
   ],
   "source": [
    "allShots = dfShots[np.invert(np.isnan(dfShots.SHOT_CLOCK))]\n",
    "fig = plt.figure(figsize=(5,4), dpi=1600)\n",
    "ax = fig.add_subplot(111)\n",
    "allShots['SHOT_CLOCK'].hist(normed = True,bins=20,alpha=0.4,linewidth=0.4)\n",
    "ax.set_xlabel('Shot clock (s)',fontsize=16,fontweight='bold')\n",
    "ax.set_ylabel('Density',fontsize=16,fontweight='bold')\n",
    "fig.suptitle('Andrew Wiggins',fontsize=20,fontweight='bold')\n",
    "plt.show()"
   ]
  },
  {
   "cell_type": "markdown",
   "metadata": {},
   "source": [
    "We can continue to dig into the data. Next let's just compare the same data divided into made shots and missed shots."
   ]
  },
  {
   "cell_type": "code",
   "execution_count": 19,
   "metadata": {
    "collapsed": false
   },
   "outputs": [
    {
     "data": {
      "image/png": "[encoded data removed]",
      "text/plain": [
       "<matplotlib.figure.Figure at 0x10a0205d0>"
      ]
     },
     "metadata": {},
     "output_type": "display_data"
    }
   ],
   "source": [
    "fig = plt.figure(figsize=(5,4), dpi=1600)\n",
    "ax = fig.add_subplot(111)\n",
    "\n",
    "madeShots = dfShots[(dfShots.SHOT_RESULT=='made') & (np.invert(np.isnan(dfShots.SHOT_CLOCK)))]\n",
    "#madeShots = allShots[allShots.SHOT_RESULT=='made']\n",
    "missedShots = dfShots[(dfShots.SHOT_RESULT=='missed') & (np.invert(np.isnan(dfShots.SHOT_CLOCK)))]\n",
    "\n",
    "madeShots['SHOT_CLOCK'].hist(normed = True,bins=20,alpha=0.3,linewidth=0.4,label='made')\n",
    "missedShots['SHOT_CLOCK'].hist(normed = True,bins=20,alpha=0.3,linewidth=0.4,label='missed')\n",
    "plt.legend(loc='upper right',framealpha=0)\n",
    "\n",
    "ax.set_xlabel('Shot clock (s)',fontsize=16,fontweight='bold')\n",
    "ax.set_ylabel('Density',fontsize=16,fontweight='bold')\n",
    "fig.suptitle('Andrew Wiggins',fontsize=20,fontweight='bold')\n",
    "plt.show()"
   ]
  },
  {
   "cell_type": "markdown",
   "metadata": {},
   "source": [
    "It looks like the missed shots and made shots pretty much overlap. A couple of interesting points. The made shots density is relatively higher with more time left on the shot clock. This is probably due to quick put-back shots. At low time left, the missed is slightly higher, suggesting possible forced low-quality shots as the shot clock is expiring.\n",
    "\n",
    "There's obviously a lot more room for analysis here. But I'm happy that after fumbling through this I have a _much_ better grasp on scraping web data."
   ]
  },
  {
   "cell_type": "code",
   "execution_count": null,
   "metadata": {
    "collapsed": true
   },
   "outputs": [],
   "source": []
  }
 ],
 "metadata": {
  "kernelspec": {
   "display_name": "Python 2",
   "language": "python",
   "name": "python2"
  },
  "language_info": {
   "codemirror_mode": {
    "name": "ipython",
    "version": 2
   },
   "file_extension": ".py",
   "mimetype": "text/x-python",
   "name": "python",
   "nbconvert_exporter": "python",
   "pygments_lexer": "ipython2",
   "version": "2.7.10"
  }
 },
 "nbformat": 4,
 "nbformat_minor": 0
}
