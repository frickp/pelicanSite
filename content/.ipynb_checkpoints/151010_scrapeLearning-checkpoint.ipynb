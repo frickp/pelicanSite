{
 "cells": [
  {
   "cell_type": "markdown",
   "metadata": {},
   "source": [
    "My goal is to learn how to scrape data using python and do some quick data analysis.\n",
    "\n",
    "This is my first time scraping from the web. I found [this documentation](http://www.gregreda.com/2015/02/15/web-scraping-finding-the-api/) *extremely* helpful. Here, I'm pulling in the shot log for Andrew Wiggins, the NBA Rookie of the Year for the 2014-2015 season."
   ]
  },
  {
   "cell_type": "code",
   "execution_count": 1,
   "metadata": {
    "collapsed": false
   },
   "outputs": [],
   "source": [
    "%matplotlib inline\n",
    "import requests\n",
    "import json\n",
    "import pandas as pd\n",
    "import matplotlib.pylab as plt\n",
    "import numpy as np"
   ]
  },
  {
   "cell_type": "markdown",
   "metadata": {},
   "source": [
    "### Talking to the API\n",
    "\n",
    "To get the info needed, you can navigate to the website that gives the data you want. Using Chrome developer tools, you can navigate to find the API and see the structure of the request by previewing it."
   ]
  },
  {
   "cell_type": "code",
   "execution_count": 2,
   "metadata": {
    "collapsed": false
   },
   "outputs": [],
   "source": [
    "shotsUrl = 'http://stats.nba.com/stats/playerdashptshotlog?' + \\\n",
    "    'DateFrom=&DateTo=&GameSegment=&LastNGames=0&LeagueID=00' + \\\n",
    "    '&Location=&Month=0&OpponentTeamID=0&Outcome=&Period=0' + \\\n",
    "    '&PlayerID=203952&Season=2014-15&SeasonSegment=&SeasonType=' + \\\n",
    "    'Regular+Season&TeamID=0&VsConference=&VsDivision='"
   ]
  },
  {
   "cell_type": "markdown",
   "metadata": {},
   "source": [
    "Now, use `requests` to get the data back in json format "
   ]
  },
  {
   "cell_type": "code",
   "execution_count": 3,
   "metadata": {
    "collapsed": false
   },
   "outputs": [],
   "source": [
    "response = requests.get(shotsUrl)\n",
    "response.raise_for_status()\n",
    "shots = response.json()['resultSets'][0]['rowSet']\n",
    "colNames = response.json()['resultSets'][0]['headers']"
   ]
  },
  {
   "cell_type": "markdown",
   "metadata": {},
   "source": [
    "### Organize the data\n",
    "\n",
    "Now, having all the data in memory, arrange it and put it in a dataframe. Also, let's save it for further use"
   ]
  },
  {
   "cell_type": "code",
   "execution_count": 11,
   "metadata": {
    "collapsed": false
   },
   "outputs": [
    {
     "data": {
      "text/plain": [
       "u'/Users/Peter/git/pelicanSite/content'"
      ]
     },
     "execution_count": 11,
     "metadata": {},
     "output_type": "execute_result"
    }
   ],
   "source": [
    "pwd"
   ]
  },
  {
   "cell_type": "code",
   "execution_count": null,
   "metadata": {
    "collapsed": true
   },
   "outputs": [],
   "source": [
    "ls '../../dataSandbox/forPelican/nbaWiggins.csv'"
   ]
  },
  {
   "cell_type": "code",
   "execution_count": 13,
   "metadata": {
    "collapsed": false
   },
   "outputs": [
    {
     "data": {
      "text/html": [
       "<div>\n",
       "<table border=\"1\" class=\"dataframe\">\n",
       "  <thead>\n",
       "    <tr style=\"text-align: right;\">\n",
       "      <th></th>\n",
       "      <th>GAME_ID</th>\n",
       "      <th>MATCHUP</th>\n",
       "      <th>LOCATION</th>\n",
       "      <th>W</th>\n",
       "      <th>FINAL_MARGIN</th>\n",
       "      <th>SHOT_NUMBER</th>\n",
       "      <th>PERIOD</th>\n",
       "      <th>GAME_CLOCK</th>\n",
       "      <th>SHOT_CLOCK</th>\n",
       "      <th>DRIBBLES</th>\n",
       "      <th>TOUCH_TIME</th>\n",
       "      <th>SHOT_DIST</th>\n",
       "      <th>PTS_TYPE</th>\n",
       "      <th>SHOT_RESULT</th>\n",
       "      <th>CLOSEST_DEFENDER</th>\n",
       "      <th>CLOSEST_DEFENDER_PLAYER_ID</th>\n",
       "      <th>CLOSE_DEF_DIST</th>\n",
       "      <th>FGM</th>\n",
       "      <th>PTS</th>\n",
       "    </tr>\n",
       "  </thead>\n",
       "  <tbody>\n",
       "    <tr>\n",
       "      <th>0</th>\n",
       "      <td>0021401222</td>\n",
       "      <td>APR 15, 2015 - MIN vs. OKC</td>\n",
       "      <td>H</td>\n",
       "      <td>L</td>\n",
       "      <td>-25</td>\n",
       "      <td>1</td>\n",
       "      <td>1</td>\n",
       "      <td>11:23</td>\n",
       "      <td>11.9</td>\n",
       "      <td>1</td>\n",
       "      <td>3.6</td>\n",
       "      <td>10.5</td>\n",
       "      <td>2</td>\n",
       "      <td>missed</td>\n",
       "      <td>Roberson, Andre</td>\n",
       "      <td>203460</td>\n",
       "      <td>3.0</td>\n",
       "      <td>0</td>\n",
       "      <td>0</td>\n",
       "    </tr>\n",
       "    <tr>\n",
       "      <th>1</th>\n",
       "      <td>0021401222</td>\n",
       "      <td>APR 15, 2015 - MIN vs. OKC</td>\n",
       "      <td>H</td>\n",
       "      <td>L</td>\n",
       "      <td>-25</td>\n",
       "      <td>2</td>\n",
       "      <td>1</td>\n",
       "      <td>5:34</td>\n",
       "      <td>9.5</td>\n",
       "      <td>2</td>\n",
       "      <td>4.2</td>\n",
       "      <td>12.2</td>\n",
       "      <td>2</td>\n",
       "      <td>made</td>\n",
       "      <td>Morrow, Anthony</td>\n",
       "      <td>201627</td>\n",
       "      <td>2.3</td>\n",
       "      <td>1</td>\n",
       "      <td>2</td>\n",
       "    </tr>\n",
       "    <tr>\n",
       "      <th>2</th>\n",
       "      <td>0021401222</td>\n",
       "      <td>APR 15, 2015 - MIN vs. OKC</td>\n",
       "      <td>H</td>\n",
       "      <td>L</td>\n",
       "      <td>-25</td>\n",
       "      <td>3</td>\n",
       "      <td>1</td>\n",
       "      <td>1:58</td>\n",
       "      <td>6.0</td>\n",
       "      <td>0</td>\n",
       "      <td>1.0</td>\n",
       "      <td>24.5</td>\n",
       "      <td>3</td>\n",
       "      <td>missed</td>\n",
       "      <td>Kanter, Enes</td>\n",
       "      <td>202683</td>\n",
       "      <td>7.0</td>\n",
       "      <td>0</td>\n",
       "      <td>0</td>\n",
       "    </tr>\n",
       "    <tr>\n",
       "      <th>3</th>\n",
       "      <td>0021401222</td>\n",
       "      <td>APR 15, 2015 - MIN vs. OKC</td>\n",
       "      <td>H</td>\n",
       "      <td>L</td>\n",
       "      <td>-25</td>\n",
       "      <td>4</td>\n",
       "      <td>2</td>\n",
       "      <td>10:46</td>\n",
       "      <td>14.9</td>\n",
       "      <td>0</td>\n",
       "      <td>0.9</td>\n",
       "      <td>24.9</td>\n",
       "      <td>3</td>\n",
       "      <td>missed</td>\n",
       "      <td>Collison, Nick</td>\n",
       "      <td>2555</td>\n",
       "      <td>7.4</td>\n",
       "      <td>0</td>\n",
       "      <td>0</td>\n",
       "    </tr>\n",
       "    <tr>\n",
       "      <th>4</th>\n",
       "      <td>0021401222</td>\n",
       "      <td>APR 15, 2015 - MIN vs. OKC</td>\n",
       "      <td>H</td>\n",
       "      <td>L</td>\n",
       "      <td>-25</td>\n",
       "      <td>5</td>\n",
       "      <td>2</td>\n",
       "      <td>7:12</td>\n",
       "      <td>14.8</td>\n",
       "      <td>1</td>\n",
       "      <td>2.2</td>\n",
       "      <td>4.2</td>\n",
       "      <td>2</td>\n",
       "      <td>missed</td>\n",
       "      <td>Adams, Steven</td>\n",
       "      <td>203500</td>\n",
       "      <td>3.3</td>\n",
       "      <td>0</td>\n",
       "      <td>0</td>\n",
       "    </tr>\n",
       "  </tbody>\n",
       "</table>\n",
       "</div>"
      ],
      "text/plain": [
       "      GAME_ID                     MATCHUP LOCATION  W  FINAL_MARGIN  \\\n",
       "0  0021401222  APR 15, 2015 - MIN vs. OKC        H  L           -25   \n",
       "1  0021401222  APR 15, 2015 - MIN vs. OKC        H  L           -25   \n",
       "2  0021401222  APR 15, 2015 - MIN vs. OKC        H  L           -25   \n",
       "3  0021401222  APR 15, 2015 - MIN vs. OKC        H  L           -25   \n",
       "4  0021401222  APR 15, 2015 - MIN vs. OKC        H  L           -25   \n",
       "\n",
       "   SHOT_NUMBER  PERIOD GAME_CLOCK  SHOT_CLOCK  DRIBBLES  TOUCH_TIME  \\\n",
       "0            1       1      11:23        11.9         1         3.6   \n",
       "1            2       1       5:34         9.5         2         4.2   \n",
       "2            3       1       1:58         6.0         0         1.0   \n",
       "3            4       2      10:46        14.9         0         0.9   \n",
       "4            5       2       7:12        14.8         1         2.2   \n",
       "\n",
       "   SHOT_DIST  PTS_TYPE SHOT_RESULT CLOSEST_DEFENDER  \\\n",
       "0       10.5         2      missed  Roberson, Andre   \n",
       "1       12.2         2        made  Morrow, Anthony   \n",
       "2       24.5         3      missed     Kanter, Enes   \n",
       "3       24.9         3      missed   Collison, Nick   \n",
       "4        4.2         2      missed    Adams, Steven   \n",
       "\n",
       "   CLOSEST_DEFENDER_PLAYER_ID  CLOSE_DEF_DIST  FGM  PTS  \n",
       "0                      203460             3.0    0    0  \n",
       "1                      201627             2.3    1    2  \n",
       "2                      202683             7.0    0    0  \n",
       "3                        2555             7.4    0    0  \n",
       "4                      203500             3.3    0    0  "
      ]
     },
     "execution_count": 13,
     "metadata": {},
     "output_type": "execute_result"
    }
   ],
   "source": [
    "dfShots = pd.DataFrame(shots,columns=colNames)\n",
    "dfShots.to_csv('../../dataSandbox/forPelican/nbaWiggins.csv',index_label=False)\n",
    "dfShots.head()"
   ]
  },
  {
   "cell_type": "markdown",
   "metadata": {},
   "source": [
    "### Skimming the surface\n",
    "\n",
    "There's a lot of data here. Let's just start with a quick analysis of how much time was on the shot clock when Wiggins shot the ball."
   ]
  },
  {
   "cell_type": "code",
   "execution_count": 5,
   "metadata": {
    "collapsed": false,
    "scrolled": true
   },
   "outputs": [
    {
     "data": {
      "image/png": "[encoded data removed]",
      "text/plain": [
       "<matplotlib.figure.Figure at 0x109dada90>"
      ]
     },
     "metadata": {},
     "output_type": "display_data"
    }
   ],
   "source": [
    "allShots = dfShots[np.invert(np.isnan(dfShots.SHOT_CLOCK))]\n",
    "fig = plt.figure(figsize=(5,4), dpi=1600)\n",
    "ax = fig.add_subplot(111)\n",
    "allShots['SHOT_CLOCK'].hist(normed = True,bins=20,alpha=0.4,linewidth=0.4)\n",
    "ax.set_xlabel('Shot clock (s)',fontsize=16,fontweight='bold')\n",
    "ax.set_ylabel('Density',fontsize=16,fontweight='bold')\n",
    "fig.suptitle('Andrew Wiggins',fontsize=20,fontweight='bold')\n",
    "plt.show()"
   ]
  },
  {
   "cell_type": "markdown",
   "metadata": {},
   "source": [
    "### Is the shot clock distribution similar for made/missed shots?\n",
    "\n",
    "We can continue to dig into the data. Next let's just compare the same data divided into made shots and missed shots."
   ]
  },
  {
   "cell_type": "code",
   "execution_count": 6,
   "metadata": {
    "collapsed": false
   },
   "outputs": [
    {
     "data": {
      "image/png": "[encoded data removed]",
      "text/plain": [
       "<matplotlib.figure.Figure at 0x109d73350>"
      ]
     },
     "metadata": {},
     "output_type": "display_data"
    }
   ],
   "source": [
    "fig = plt.figure(figsize=(5,4), dpi=1600)\n",
    "ax = fig.add_subplot(111)\n",
    "\n",
    "madeShots = dfShots[(dfShots.SHOT_RESULT=='made') & (np.invert(np.isnan(dfShots.SHOT_CLOCK)))]\n",
    "#madeShots = allShots[allShots.SHOT_RESULT=='made']\n",
    "missedShots = dfShots[(dfShots.SHOT_RESULT=='missed') & (np.invert(np.isnan(dfShots.SHOT_CLOCK)))]\n",
    "\n",
    "madeShots['SHOT_CLOCK'].hist(normed = True,bins=20,alpha=0.3,linewidth=0.4,label='made')\n",
    "missedShots['SHOT_CLOCK'].hist(normed = True,bins=20,alpha=0.3,linewidth=0.4,label='missed')\n",
    "plt.legend(loc='upper right',framealpha=0)\n",
    "\n",
    "ax.set_xlabel('Shot clock (s)',fontsize=16,fontweight='bold')\n",
    "ax.set_ylabel('Density',fontsize=16,fontweight='bold')\n",
    "fig.suptitle('Andrew Wiggins',fontsize=20,fontweight='bold')\n",
    "plt.show()"
   ]
  },
  {
   "cell_type": "markdown",
   "metadata": {},
   "source": [
    "It looks like the missed shots and made shots pretty much overlap. A couple of interesting points. The made shots density is relatively higher with more time left on the shot clock. This is probably due to quick put-back shots. At low time left, the missed is slightly higher, suggesting possible forced low-quality shots as the shot clock is expiring."
   ]
  },
  {
   "cell_type": "markdown",
   "metadata": {
    "collapsed": true
   },
   "source": [
    "## Nike bootstraps\n",
    "We have these two distributions, and they look different by eye, but can we say with confidence that the sample means are not the same? To translate that to statistics mumbo jumbo, can we reject the null hypothesis that these two distributions have equal sample means?\n",
    "\n",
    "If the data were nice pretty Gaussians, then a t-test would be perfect. I'm not sure what distribution describes the time remaining on the shot clock, so we'll instead take a _non-parametric approach_, that is, to not assume knowledge of the underlying distributions.\n",
    "\n",
    "So... let's use bootstrapping to estimate the error of the estimates of the means for the two distributions. This will tell us if we can distinguish these distributions with confidence."
   ]
  },
  {
   "cell_type": "code",
   "execution_count": 7,
   "metadata": {
    "collapsed": true
   },
   "outputs": [],
   "source": [
    "from sklearn.utils import resample"
   ]
  },
  {
   "cell_type": "markdown",
   "metadata": {},
   "source": [
    "Now, let's write a function to resample the sample data. \n",
    "\n",
    "__Wait, you are seriously going to use only your data to make up more theoretical data and use this to draw conclusions about the real-world error of the original data?__  \n",
    "\n",
    "Okay, so this hits a nerve. The experimentalist in me has had the luxury of resampling from the population by just doing another experiment. This is obiously the ideal case. So I've always kind of kept a healthy skepticism every time I thought about bootstrap resampling.\n",
    "\n",
    "[Apparently](https://en.wikipedia.org/wiki/Bootstrapping) it is called  bootstrapping precisely because it is physically impossible to pull yourself up off the ground by pulling your own bootstraps. This happens to work in statistics though. Think of it this way, as your sample increases in size, it will more closely approximate the underlying distribution of the data. \n",
    "\n",
    "___Bootstrapping relies upon the assumption that your sample closely resembles the unobserved/theoretical population distribution___. Therefore sampling from your sample is equivalent to sampling from the the population. This makes sense for larger sample sizes, but I would stay cautious using bootstrapping with small samples, because the sample may not resemble the total population."
   ]
  },
  {
   "cell_type": "markdown",
   "metadata": {},
   "source": [
    "Okay, to the bootstrapping. Here's a function to return the 95% confidence interval for the estimate of the mean."
   ]
  },
  {
   "cell_type": "code",
   "execution_count": 8,
   "metadata": {
    "collapsed": true
   },
   "outputs": [],
   "source": [
    "def getCI(dist,n=1000):\n",
    "    bootMean = []\n",
    "    for i in range(n):\n",
    "        newDist = resample(dist)\n",
    "        bootMean.append(newDist.mean())\n",
    "    bootMean = sorted(bootMean)\n",
    "    madeCI = {'lower': bootMean[int(n*0.025)], 'upper': bootMean[int(n*0.975)], 'mean': bootMean[int(n*0.5)]}\n",
    "    return madeCI"
   ]
  },
  {
   "cell_type": "markdown",
   "metadata": {},
   "source": [
    "Now, resample 1,000 times to calculate the 95% CI of the mean shot clock time remaining for both the made and missed shots."
   ]
  },
  {
   "cell_type": "code",
   "execution_count": 9,
   "metadata": {
    "collapsed": false
   },
   "outputs": [
    {
     "name": "stdout",
     "output_type": "stream",
     "text": [
      "Made shots abs. error intervals:\n",
      "0.509053497942, 0.464609053498\n",
      "\n",
      "Missed shots abs. error intervals:\n",
      "0.396910569106, 0.426178861789\n"
     ]
    }
   ],
   "source": [
    "made = getCI(madeShots['SHOT_CLOCK'],1000)\n",
    "missed = getCI(missedShots['SHOT_CLOCK'],1000)\n",
    "\n",
    "madeUp = abs(made['upper'] - made['mean'])\n",
    "madeLow = abs(made['lower'] - made['mean'])\n",
    "print \"Made shots abs. error intervals:\\n\" + str(madeLow) +', ' + str(madeUp) + '\\n'\n",
    "missedUp = abs(missed['upper'] - missed['mean'])\n",
    "missedLow = abs(missed['lower'] - missed['mean'])\n",
    "print \"Missed shots abs. error intervals:\\n\" + str(missedLow) + ', ' + str(missedUp)"
   ]
  },
  {
   "cell_type": "code",
   "execution_count": 10,
   "metadata": {
    "collapsed": false
   },
   "outputs": [
    {
     "data": {
      "image/png": "[encoded data removed]",
      "text/plain": [
       "<matplotlib.figure.Figure at 0x10b176b90>"
      ]
     },
     "metadata": {},
     "output_type": "display_data"
    }
   ],
   "source": [
    "fig = plt.figure(figsize=(8,6), dpi=1600)\n",
    "ax = fig.add_subplot(111)\n",
    "\n",
    "madeShots = dfShots[(dfShots.SHOT_RESULT=='made') & (np.invert(np.isnan(dfShots.SHOT_CLOCK)))]\n",
    "missedShots = dfShots[(dfShots.SHOT_RESULT=='missed') & (np.invert(np.isnan(dfShots.SHOT_CLOCK)))]\n",
    "\n",
    "madeShots['SHOT_CLOCK'].hist(normed = True,bins=20,alpha=0.3,linewidth=0.4,label='made')\n",
    "missedShots['SHOT_CLOCK'].hist(normed = True,bins=20,alpha=0.3,linewidth=0.4,label='missed')\n",
    "plt.legend(loc='upper right',framealpha=0)\n",
    "\n",
    "ax.set_xlabel('Shot clock (s)',fontsize=16,fontweight='bold')\n",
    "ax.set_ylabel('Density',fontsize=16,fontweight='bold')\n",
    "fig.suptitle('Andrew Wiggins',fontsize=20,fontweight='bold')\n",
    "\n",
    "plt.errorbar(x=[made['mean']],y=[0.05],xerr=[[madeLow],[madeUp]],linewidth=3,capthick=3,ecolor='b')\n",
    "plt.errorbar(x=[missed['mean']],y=[0.05],xerr=[[missedLow],[missedUp]],linewidth=3,capthick=3,ecolor='g')\n",
    "\n",
    "plt.show()"
   ]
  },
  {
   "cell_type": "markdown",
   "metadata": {},
   "source": [
    "### Conclusions\n",
    "\n",
    "There you have it. Using bootstrap resampling of these funny looking distributions, we can say with confidence that, _on average_, Wiggins' shot his made shots faster (with more remaining time on the shot clock) than his missed shots."
   ]
  }
 ],
 "metadata": {
  "kernelspec": {
   "display_name": "Python 2",
   "language": "python",
   "name": "python2"
  },
  "language_info": {
   "codemirror_mode": {
    "name": "ipython",
    "version": 2
   },
   "file_extension": ".py",
   "mimetype": "text/x-python",
   "name": "python",
   "nbconvert_exporter": "python",
   "pygments_lexer": "ipython2",
   "version": "2.7.11"
  }
 },
 "nbformat": 4,
 "nbformat_minor": 0
}
