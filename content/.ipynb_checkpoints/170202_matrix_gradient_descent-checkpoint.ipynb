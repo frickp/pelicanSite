{
 "cells": [
  {
   "cell_type": "markdown",
   "metadata": {},
   "source": [
    "Deep learning is getting so popular that even [Mark Cuban](https://bothsidesofthetable.com/mark-cuban-on-why-you-need-to-study-artificial-intelligence-or-youll-be-a-dinosaur-in-3-years-db3447bea1b4) is urging folks to learn it to avoid becoming a \"dinosaur\". Okay Mark, message heard, I'm addressing this guilt trip now. I originally tried starting in tensorflow (tensors are multidimensional arrays), but I quickly realized that I don't _think_ in terms of tensors/matrices. For example, I drew a blank when thinking about how to take a partial derivative using matrix multiplication. So, as an exercise to understand concepts such as notation and matrix computations, my goal is to implement gradient descent on a multiple regression model. \n",
    "\n",
    "Gradient descent is fairly intuitive. The goal of gradient descent is to find the minimum of the objective function, in this case, the sum-of-squares error. A derivative tells you the slope of a function. So, just walk down (descent) the slope and you will eventually reach the bottom. The \"gradient\" in gradient descent is a technical term, which refers to the partial derivative of the objective function across all the descriptors. If this is new, check out the excellent descriptions by [Andrew Ng](https://www.coursera.org/learn/machine-learning) and or [Sebastian Rashka](https://www.quora.com/Whats-the-difference-between-gradient-descent-and-stochastic-gradient-descent), or this [python code](http://stackoverflow.com/questions/17784587/gradient-descent-using-python-and-numpy). While these were helpful in gaining intuition, tensorflow uses array multiplication, and not temporary variable assignment and for loops across variables.\n",
    "\n",
    "So let's get started."
   ]
  },
  {
   "cell_type": "code",
   "execution_count": 1,
   "metadata": {
    "collapsed": true
   },
   "outputs": [],
   "source": [
    "%matplotlib inline\n",
    "import numpy as np\n",
    "import pandas as pd\n",
    "\n",
    "import matplotlib.pylab as plt\n",
    "import seaborn as sns\n",
    "import matplotlib as mpl\n",
    "label_size = 13\n",
    "mpl.rcParams['xtick.labelsize'] = label_size \n",
    "mpl.rcParams['ytick.labelsize'] = label_size\n",
    "mpl.rcParams.update({'figure.autolayout': True})"
   ]
  },
  {
   "cell_type": "markdown",
   "metadata": {},
   "source": [
    "## notation and dimensionality \n",
    "If you are familiar with matrix notation, feel free to skip this section. Otherwise, to orient you, The model we are building is a multi-dimensional linear model with the following form:\n",
    "\n",
    "$$y=XW + bias + epsilon$$\n",
    "\n",
    "where $X$ (_n x p_) is the observed data, _W_ $(p \\times 1)$ is the weights, $y$ $(n \\times 1)$ is the predicted value and _epsilon_ $(n \\times 1)$ is the error. This is called the [design matrix](https://en.wikipedia.org/wiki/Design_matrix). Each data point is represented by a $(p \\times 1)$ vector, so to add new data to the matrix, transpose the _p_-vector and append it to the bottom of the design matrix. After matrix multiplication, $XW$ is $n \\times 1$, and to generate realistic data, I add an error term, _epsilon_. This gives enough for us to create our target data, $y$."
   ]
  },
  {
   "cell_type": "markdown",
   "metadata": {},
   "source": [
    "### generate target data $y$"
   ]
  },
  {
   "cell_type": "code",
   "execution_count": 2,
   "metadata": {
    "collapsed": false
   },
   "outputs": [],
   "source": [
    "X_grid = np.mgrid[0:10:1, 0:10:1].reshape(2,-1).T # from http://stackoverflow.com/a/32208788/4691861\n",
    "X = np.concatenate((X_grid,np.tile(1,[100,1])),axis=1)\n",
    "true_weights = np.array([[5],[-1.5],[3]])\n",
    "epsilon = np.random.normal(loc=0,scale=1,size=[100,1])\n",
    "y = np.matmul(X,true_weights)+epsilon"
   ]
  },
  {
   "cell_type": "markdown",
   "metadata": {},
   "source": [
    "### combine the bias into $X$\n",
    "Now the goal of gradient descent is to iteratively _learn_ the true weights. A quick note is that the bias term can be conveniently wrapped into $XW$ by right-appending a column of ones to _X_ and appending another predictor to the bottom of _W_. This makes sense if you consider $ (n \\times p+1) \\times (p \\times 1) = n \\times 1$. The reason it works becomes clear after doing the derivatives.\n",
    "\n",
    "Now, let's initialize our learned weights randomly"
   ]
  },
  {
   "cell_type": "code",
   "execution_count": 3,
   "metadata": {
    "collapsed": false
   },
   "outputs": [],
   "source": [
    "learned_weights = np.random.normal(loc=1,scale=1,size=[3,1])\n",
    "orig_learned_weights = learned_weights.copy() # copy for reference"
   ]
  },
  {
   "cell_type": "markdown",
   "metadata": {},
   "source": [
    "### define the gradient"
   ]
  },
  {
   "cell_type": "markdown",
   "metadata": {},
   "source": [
    "Our first step is to define the gradient of the objective function. The objective function we optimize is the sum-of-squares error between the true and learned weights. $$obj={\\dfrac{1}{2}} \\sum\\limits_{i=i}^{n} (\\hat{y}-y)^2$$\n",
    "which can be rewritten as \n",
    "$$obj={\\dfrac{1}{2}} \\sum\\limits_{i=i}^{n} (XW-y)^2$$\n",
    "Then\n",
    "$$\\nabla obj=\\sum\\limits_{i=i}^{n} (XW-y)D(XW)$$\n",
    "where $D$ refers to the [matrix derivative](http://mathinsight.org/derivative_matrix), in our case, with respect to _W_. \n",
    "\n",
    "So at each epoch (training iteration), we will update each weight according to\n",
    "\n",
    "$$w_j=w_j-learning\\:rate \\times \\nabla obj_j$$\n",
    "\n",
    "Thus at each step, we update each weight by moving opposite the gradient (subtraction) toward the minimum of the objective function by a step size defined by the learning rate."
   ]
  },
  {
   "cell_type": "markdown",
   "metadata": {},
   "source": [
    "### variable updates through matrix multiplication"
   ]
  },
  {
   "cell_type": "markdown",
   "metadata": {},
   "source": [
    "How do we do the variable updates using matrices? Well, first we need to understand how matrix derivatives work.\n",
    "\n",
    "I found that writing out an example was helpful. Consider two arbitrary matrices $X_{3 \\times 2}$ and $W_{2 \\times 1}$ of the form\n",
    "\n",
    "$$X=\\begin{bmatrix}\n",
    "    x_1 & x_4\\\\\n",
    "    x_2 & x_5\\\\\n",
    "    x_3  & x_6\\\\\n",
    "  \\end{bmatrix}$$\n",
    "$$W=\\begin{bmatrix}\n",
    "    w_1\\\\\n",
    "    w_2\\\\\n",
    "  \\end{bmatrix}$$\n",
    "\n",
    "Then\n",
    "\n",
    "$$XW=\\begin{bmatrix}\n",
    "    x_1w_1 + x_4w_2\\\\\n",
    "    x_2w_1 + x_5w_2\\\\\n",
    "    x_3w_1 + x_6w_2\\\\\n",
    "  \\end{bmatrix}$$\n",
    "\n",
    "Taking the partial derivative of each weight gives\n",
    "\n",
    "$$\\frac{\\partial{XW}}{\\partial w_1}=\\begin{bmatrix}\n",
    "    \\frac{\\partial{(x_1w_1 + w_4w_2)}}{\\partial w_1}\\\\\n",
    "    \\frac{\\partial{(x_2w_1 + x_5w_2)}}{\\partial w_1}\\\\\n",
    "    \\frac{\\partial{(x_3w_1 + w_6w_2)}}{\\partial w_1}\\\\\n",
    "  \\end{bmatrix}\n",
    "  =\\begin{bmatrix}\n",
    "    x_1\\\\\n",
    "    x_2\\\\\n",
    "    x_3\\\\\n",
    "  \\end{bmatrix}$$\n",
    "\n",
    "$$\\frac{\\partial{XW}}{\\partial w_2}=\\begin{bmatrix}\n",
    "    \\frac{\\partial{(x_1w_1 + x_4w_2)}}{\\partial w_2}\\\\\n",
    "    \\frac{\\partial{(x_2w_1 + x_5w_2)}}{\\partial w_2}\\\\\n",
    "    \\frac{\\partial{(x_3w_1 + x_6w_2)}}{\\partial w_2}\\\\\n",
    "  \\end{bmatrix}\n",
    "  =\\begin{bmatrix}\n",
    "    x_4\\\\\n",
    "    x_5\\\\\n",
    "    x_6\\\\\n",
    "  \\end{bmatrix}$$\n",
    "  \n",
    "This is equivalent to choosing the _j_ th column of $X$ for each weight. Then this can be represented in matrix form as\n",
    "$\\frac{\\partial{XW}}{\\partial w_1} = X \\begin{bmatrix}\n",
    "    1\\\\\n",
    "    0\\\\\n",
    "  \\end{bmatrix}$ and $\\frac{\\partial{XW}}{\\partial w_2} = X \\begin{bmatrix}\n",
    "    0\\\\\n",
    "    1\\\\\n",
    "  \\end{bmatrix}$\n",
    " \n",
    "So we can effectively compute the parital derivatives of all weights by using a $(p+1 \\times p+1)$ diagonal matrix of ones. First, let's use this trick to figure out how to compute $D(WX)$ in matrix form.\n"
   ]
  },
  {
   "cell_type": "code",
   "execution_count": 4,
   "metadata": {
    "collapsed": true
   },
   "outputs": [],
   "source": [
    "ones = np.zeros((3, 3))\n",
    "np.fill_diagonal(ones, 1)\n",
    "diag_ones = ones.reshape((3,3,1))"
   ]
  },
  {
   "cell_type": "markdown",
   "metadata": {},
   "source": [
    "Show the shape of the `diag_ones` matrix"
   ]
  },
  {
   "cell_type": "code",
   "execution_count": 5,
   "metadata": {
    "collapsed": false
   },
   "outputs": [
    {
     "data": {
      "text/plain": [
       "array([[[ 1.],\n",
       "        [ 0.],\n",
       "        [ 0.]],\n",
       "\n",
       "       [[ 0.],\n",
       "        [ 1.],\n",
       "        [ 0.]],\n",
       "\n",
       "       [[ 0.],\n",
       "        [ 0.],\n",
       "        [ 1.]]])"
      ]
     },
     "execution_count": 5,
     "metadata": {},
     "output_type": "execute_result"
    }
   ],
   "source": [
    "diag_ones"
   ]
  },
  {
   "cell_type": "markdown",
   "metadata": {},
   "source": [
    "Now multiplying it through gives us"
   ]
  },
  {
   "cell_type": "code",
   "execution_count": 6,
   "metadata": {
    "collapsed": false
   },
   "outputs": [],
   "source": [
    "deltaXW_deltaW = np.matmul(X,diag_ones)"
   ]
  },
  {
   "cell_type": "markdown",
   "metadata": {},
   "source": [
    "Then, check that the dimensions match..."
   ]
  },
  {
   "cell_type": "code",
   "execution_count": 7,
   "metadata": {
    "collapsed": false
   },
   "outputs": [
    {
     "name": "stdout",
     "output_type": "stream",
     "text": [
      "(3, 100)\n",
      "(100, 1)\n"
     ]
    }
   ],
   "source": [
    "print deltaXW_deltaW.reshape((3,100)).shape\n",
    "y_hat_minus_y = np.matmul(X,learned_weights) - y\n",
    "print y_hat_minus_y.shape"
   ]
  },
  {
   "cell_type": "markdown",
   "metadata": {},
   "source": [
    "Voila! The matrices are of the right dimension to compute the gradients across all weights simultaneously.  Now we can perform $$w_j=w_j-learning\\:rate \\times \\nabla obj_j$$ using matrix multiplation"
   ]
  },
  {
   "cell_type": "markdown",
   "metadata": {},
   "source": [
    "### Ready for liftoff\n",
    "Now, we are ready to watch the learning happen. First, we will define a learning rate, initiate weights randomly, perform the updates, and compare them to the defined weights we picked arbitrarily."
   ]
  },
  {
   "cell_type": "code",
   "execution_count": 8,
   "metadata": {
    "collapsed": false
   },
   "outputs": [],
   "source": [
    "learning_rate = 0.001\n",
    "num_samples = X.shape[0]\n",
    "learned_weights=orig_learned_weights.copy()"
   ]
  },
  {
   "cell_type": "markdown",
   "metadata": {},
   "source": [
    "### perform gradient descent over 10,000 epochs\n",
    "We will track the $loss$ (the squared error) and $W_{learned}$ after each iteration, then see how the algorithm performed"
   ]
  },
  {
   "cell_type": "code",
   "execution_count": 9,
   "metadata": {
    "collapsed": false
   },
   "outputs": [],
   "source": [
    "epoch_num = 10000\n",
    "weight_updates = np.zeros((epoch_num + 1,3))\n",
    "weight_updates[0,:] = orig_learned_weights.transpose()\n",
    "loss = np.zeros(epoch_num + 1)\n",
    "loss[0] = np.sum(np.square(true_weights - learned_weights))\n",
    "for epoch in range(epoch_num):\n",
    "    y_hat_minus_y = np.matmul(X,learned_weights) - y\n",
    "    gradient = np.matmul(deltaXW_deltaW.reshape((3,100)),y_hat_minus_y)\n",
    "    gradient_step = gradient/num_samples*learning_rate\n",
    "    learned_weights = learned_weights - gradient_step\n",
    "    loss[epoch+1] = np.sum(np.square(true_weights - learned_weights))\n",
    "    weight_updates[epoch+1,:] = learned_weights.transpose()"
   ]
  },
  {
   "cell_type": "code",
   "execution_count": 11,
   "metadata": {
    "collapsed": false
   },
   "outputs": [
    {
     "data": {
      "image/png": "[encoded data removed]",
      "text/plain": [
       "<matplotlib.figure.Figure at 0x116e0c790>"
      ]
     },
     "metadata": {},
     "output_type": "display_data"
    }
   ],
   "source": [
    "fig, ax = plt.subplots(figsize=(4,4))\n",
    "ax.loglog(loss)\n",
    "ax.set_xlabel('$log(epochs)$',fontsize=18)\n",
    "ax.set_ylabel('$log(loss)$',fontsize=18)\n",
    "plt.show()"
   ]
  },
  {
   "cell_type": "markdown",
   "metadata": {},
   "source": [
    "As shown in the plot above, the loss is monotonically decreasing over all epochs. Thus, the algorithm effectively descends the gradient to the true weights. Let's see how that happens by plotting each of the three weights"
   ]
  },
  {
   "cell_type": "code",
   "execution_count": 12,
   "metadata": {
    "collapsed": false
   },
   "outputs": [
    {
     "data": {
      "image/png": "[encoded data removed]",
      "text/plain": [
       "<matplotlib.figure.Figure at 0x1173797d0>"
      ]
     },
     "metadata": {},
     "output_type": "display_data"
    }
   ],
   "source": [
    "fig, ax = plt.subplots(figsize=(4,4))\n",
    "ax.plot(weight_updates[:,0])\n",
    "ax.hlines(5,0,10000,linestyles='dashed',color='blue')\n",
    "ax.plot(weight_updates[:,1])\n",
    "ax.hlines(3,0,10000,linestyles='dashed',color='red')\n",
    "ax.plot(weight_updates[:,2])\n",
    "ax.hlines(-1.5,0,10000,linestyles='dashed',color='green')\n",
    "ax.set_ylim([-2,7])\n",
    "ax.set_xlabel('epochs',fontsize=18)\n",
    "ax.set_ylabel('parameter value',fontsize=18)\n",
    "ax.legend(('w1','w2','w3'),loc=2,ncol=3)\n",
    "ax.set_title('Learned weights aproach true value',fontsize=16)\n",
    "plt.show()"
   ]
  },
  {
   "cell_type": "markdown",
   "metadata": {},
   "source": [
    "Each weight asymptotically approaches the true value (indicated by dashed line), validating the approach. As an aside, increasing the learning rate by a factor of 50 ($learning\\:rate=0.05$) gives an overflow error, so _some_ thought should be given as to what it should be set to"
   ]
  },
  {
   "cell_type": "markdown",
   "metadata": {},
   "source": [
    "### How much faster is matrix implementation than `for` loops?\n",
    "So, how much was the exercise in math worth it? How much faster is the algorithm than using temporary variable assignment and nested for loops?"
   ]
  },
  {
   "cell_type": "markdown",
   "metadata": {},
   "source": [
    "##### Matrix implementation"
   ]
  },
  {
   "cell_type": "code",
   "execution_count": 13,
   "metadata": {
    "collapsed": false
   },
   "outputs": [
    {
     "name": "stdout",
     "output_type": "stream",
     "text": [
      "CPU times: user 733 ms, sys: 2.44 ms, total: 735 ms\n",
      "Wall time: 734 ms\n"
     ]
    }
   ],
   "source": [
    "%%time\n",
    "for epoch in range(int(1e5)):\n",
    "    y_hat_minus_y = np.matmul(X,learned_weights) - y\n",
    "    gradient = np.matmul(deltaXW_deltaW.reshape((3,100)),y_hat_minus_y)\n",
    "    gradient_step = gradient/num_samples*learning_rate\n",
    "    learned_weights = learned_weights - gradient_step\n",
    "    #print np.sum(np.square(true_weights - orig_learned_weights))\n",
    "    #print np.sum(np.square(true_weights - learned_weights))"
   ]
  },
  {
   "cell_type": "markdown",
   "metadata": {
    "collapsed": true
   },
   "source": [
    "##### `for` loop implementation"
   ]
  },
  {
   "cell_type": "code",
   "execution_count": 14,
   "metadata": {
    "collapsed": false
   },
   "outputs": [
    {
     "name": "stdout",
     "output_type": "stream",
     "text": [
      "CPU times: user 6.5 s, sys: 8.09 ms, total: 6.51 s\n",
      "Wall time: 6.51 s\n"
     ]
    }
   ],
   "source": [
    "%%time\n",
    "# Initialize variables\n",
    "learned_weights = orig_learned_weights.copy()\n",
    "y_hat_minus_y = np.zeros((num_samples,1))\n",
    "gradient = np.zeros((X.shape[1],1))\n",
    "gradient_step = np.zeros((X.shape[1],1))\n",
    "for epoch in range(10000):\n",
    "    for i in range(X.shape[0]):\n",
    "        y_hat_minus_y[i] = (X[i,0] * learned_weights[0] + X[i,1] * learned_weights[1] + X[i,2] * learned_weights[2]) - y[i]\n",
    "    for j in range(X.shape[1]):\n",
    "        gradient[j] = np.sum(y_hat_minus_y * X[:,j].reshape(num_samples,1))\n",
    "        gradient_step[j] = gradient[j]/num_samples*learning_rate\n",
    "        learned_weights[j] = learned_weights[j] - gradient_step[j]"
   ]
  },
  {
   "cell_type": "markdown",
   "metadata": {
    "collapsed": true
   },
   "source": [
    "The matrix implementation is about an order of magnitude faster (~0.7s vs 7s). So it is clear that if a toy example like this can cause speed issues, how much more in a real deep learning application, where big datasets are the fuel that power the algorithm. Note that this is a first pass and I tried to optimize the code for my own understanding and not for speed. Also, _stochastic_ gradient descent algorithms addresses computation cost as well."
   ]
  }
 ],
 "metadata": {
  "anaconda-cloud": {},
  "kernelspec": {
   "display_name": "Python [conda root]",
   "language": "python",
   "name": "conda-root-py"
  },
  "language_info": {
   "codemirror_mode": {
    "name": "ipython",
    "version": 2
   },
   "file_extension": ".py",
   "mimetype": "text/x-python",
   "name": "python",
   "nbconvert_exporter": "python",
   "pygments_lexer": "ipython2",
   "version": "2.7.12"
  }
 },
 "nbformat": 4,
 "nbformat_minor": 0
}
