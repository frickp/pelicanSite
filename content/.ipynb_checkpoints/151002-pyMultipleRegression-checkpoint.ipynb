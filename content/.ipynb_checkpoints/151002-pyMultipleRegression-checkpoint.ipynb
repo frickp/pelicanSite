{
 "cells": [
  {
   "cell_type": "markdown",
   "metadata": {},
   "source": [
    "I want to get some intuition about regression models using multiple independent variables. More precisely, I am unsure if the relevant predictors would be better uncovered by multiple regression, or by pairwise analysis of all predictors against the response variable. So I'd like to use a dataset where I know the precise contribution of each predictor to the response variable.\n",
    "\n",
    "Here I'm creating a model as the sum of some random variables with different variances. Then, I'd like to see how well correlation analysis can assess significance versus a multiple regression model."
   ]
  },
  {
   "cell_type": "code",
   "execution_count": 12,
   "metadata": {
    "collapsed": false
   },
   "outputs": [],
   "source": [
    "%matplotlib inline\n",
    "import pandas as pd\n",
    "import numpy as np\n",
    "import matplotlib.pylab as plt\n",
    "from sklearn import linear_model\n",
    "from scipy import stats"
   ]
  },
  {
   "cell_type": "markdown",
   "metadata": {},
   "source": [
    "## Create the dataset  \n",
    "First, initialize some random variables that are progressively smaller"
   ]
  },
  {
   "cell_type": "code",
   "execution_count": 19,
   "metadata": {
    "collapsed": false
   },
   "outputs": [
    {
     "name": "stdout",
     "output_type": "stream",
     "text": [
      "Relative magnitude of variables x1-x6: [10.0, 5.0, 2.5, 1.25, 0.625, 0.3125]\n"
     ]
    }
   ],
   "source": [
    "p = [10*np.power(float(1)/2,i) for i in range(6)]\n",
    "print 'Relative magnitude of variables x1-x6: ' + str(p)\n",
    "#Set a randomization seed for reproducibility\n",
    "np.random.seed(2)\n",
    "d = 100\n",
    "df = pd.DataFrame({'x1': np.random.randn(d)*p[0],\n",
    "                   'x2': np.random.randn(d)*p[1],\n",
    "                   'x3': np.random.randn(d)*p[2],\n",
    "                   'x4': np.random.randn(d)*p[3],\n",
    "                   'x5': np.random.randn(d)*p[4],\n",
    "                   'x6': np.random.randn(d)*p[5],\n",
    "                  })"
   ]
  },
  {
   "cell_type": "markdown",
   "metadata": {},
   "source": [
    "### Build the model\n",
    "\n",
    "Now, sum up the variables into the response variable, Y"
   ]
  },
  {
   "cell_type": "code",
   "execution_count": 20,
   "metadata": {
    "collapsed": false
   },
   "outputs": [
    {
     "data": {
      "text/html": [
       "<div>\n",
       "<table border=\"1\" class=\"dataframe\">\n",
       "  <thead>\n",
       "    <tr style=\"text-align: right;\">\n",
       "      <th></th>\n",
       "      <th>x1</th>\n",
       "      <th>x2</th>\n",
       "      <th>x3</th>\n",
       "      <th>x4</th>\n",
       "      <th>x5</th>\n",
       "      <th>x6</th>\n",
       "      <th>Y</th>\n",
       "    </tr>\n",
       "  </thead>\n",
       "  <tbody>\n",
       "    <tr>\n",
       "      <th>0</th>\n",
       "      <td>-4.167578</td>\n",
       "      <td>5.807607</td>\n",
       "      <td>-2.877507</td>\n",
       "      <td>1.088551</td>\n",
       "      <td>-0.551953</td>\n",
       "      <td>0.077143</td>\n",
       "      <td>-0.623738</td>\n",
       "    </tr>\n",
       "    <tr>\n",
       "      <th>1</th>\n",
       "      <td>-0.562668</td>\n",
       "      <td>1.930390</td>\n",
       "      <td>-1.066306</td>\n",
       "      <td>0.741008</td>\n",
       "      <td>0.965867</td>\n",
       "      <td>-0.458992</td>\n",
       "      <td>1.549299</td>\n",
       "    </tr>\n",
       "    <tr>\n",
       "      <th>2</th>\n",
       "      <td>-21.361961</td>\n",
       "      <td>-5.665666</td>\n",
       "      <td>-0.370368</td>\n",
       "      <td>-1.374122</td>\n",
       "      <td>0.091150</td>\n",
       "      <td>0.358469</td>\n",
       "      <td>-28.322498</td>\n",
       "    </tr>\n",
       "    <tr>\n",
       "      <th>3</th>\n",
       "      <td>16.402708</td>\n",
       "      <td>2.165463</td>\n",
       "      <td>3.753592</td>\n",
       "      <td>-0.851913</td>\n",
       "      <td>-0.250066</td>\n",
       "      <td>0.029862</td>\n",
       "      <td>21.249645</td>\n",
       "    </tr>\n",
       "    <tr>\n",
       "      <th>4</th>\n",
       "      <td>-17.934356</td>\n",
       "      <td>-1.520432</td>\n",
       "      <td>2.173995</td>\n",
       "      <td>0.225083</td>\n",
       "      <td>0.509504</td>\n",
       "      <td>-0.346075</td>\n",
       "      <td>-16.892280</td>\n",
       "    </tr>\n",
       "  </tbody>\n",
       "</table>\n",
       "</div>"
      ],
      "text/plain": [
       "          x1        x2        x3        x4        x5        x6          Y\n",
       "0  -4.167578  5.807607 -2.877507  1.088551 -0.551953  0.077143  -0.623738\n",
       "1  -0.562668  1.930390 -1.066306  0.741008  0.965867 -0.458992   1.549299\n",
       "2 -21.361961 -5.665666 -0.370368 -1.374122  0.091150  0.358469 -28.322498\n",
       "3  16.402708  2.165463  3.753592 -0.851913 -0.250066  0.029862  21.249645\n",
       "4 -17.934356 -1.520432  2.173995  0.225083  0.509504 -0.346075 -16.892280"
      ]
     },
     "execution_count": 20,
     "metadata": {},
     "output_type": "execute_result"
    }
   ],
   "source": [
    "df['Y']=df.sum(axis=1)\n",
    "df.head()"
   ]
  },
  {
   "cell_type": "markdown",
   "metadata": {},
   "source": [
    "### Examine the predictor distribution\n",
    "Okay, so now let's look at the data. Shown below, they are zero-centered distributions with progressively smaller variance."
   ]
  },
  {
   "cell_type": "code",
   "execution_count": 15,
   "metadata": {
    "collapsed": false
   },
   "outputs": [
    {
     "data": {
      "image/png": "[encoded data removed]",
      "text/plain": [
       "<matplotlib.figure.Figure at 0x10b759c90>"
      ]
     },
     "metadata": {},
     "output_type": "display_data"
    }
   ],
   "source": [
    "#I should plot overlayed histograms with different alpha values\n",
    "xList = ['x'+str(i+1) for i in range(6)]\n",
    "fig = plt.figure(figsize=(5,4), dpi=1600)\n",
    "ax = fig.add_subplot(111)\n",
    "\n",
    "rollAlpha=float(1)/6\n",
    "for i in xList:\n",
    "    plt.hist(df[i],rwidth=1,alpha=rollAlpha,linewidth=0,bins=25,label=i)\n",
    "    rollAlpha = rollAlpha+float(1)/8\n",
    "\n",
    "#fig.legend(xList,col='blue',loc='upper right')\n",
    "fig.tight_layout()\n",
    "#fig.legend\n",
    "plt.legend(loc='upper right',framealpha=0)\n",
    "ax.set_xlabel('Magnitude',fontsize=16,fontweight='bold')\n",
    "ax.set_ylabel('Frequency',fontsize=16,fontweight='bold')\n",
    "plt.show()\n",
    "#Next plot the legend in the upper right and make the plot pretty"
   ]
  },
  {
   "cell_type": "markdown",
   "metadata": {},
   "source": [
    "### Examining single predictor-response correlations\n",
    "So we know that theoretically x1-x6 should each contribute to Y. Let's look at the scatterplots and plot the correlation coefficient and the assocaited p-value"
   ]
  },
  {
   "cell_type": "code",
   "execution_count": 16,
   "metadata": {
    "collapsed": false
   },
   "outputs": [
    {
     "data": {
      "image/png": "[encoded data removed]",
      "text/plain": [
       "<matplotlib.figure.Figure at 0x109abd850>"
      ]
     },
     "metadata": {},
     "output_type": "display_data"
    }
   ],
   "source": [
    "xList = ['x'+str(i+1) for i in range(6)]\n",
    "fig = plt.figure(figsize=(10,6), dpi=1600)\n",
    "fig.suptitle('Correlations of Y with single variables',fontsize=15,y=1.08,fontweight='bold')\n",
    "\n",
    "#Function to make a single plot\n",
    "def multiPlot(col):    \n",
    "    ax=plt.subplot2grid((ncol,nrow),(yPanel,xPanel))\n",
    "    ax.scatter(df['Y'],df[col],alpha=0.2)\n",
    "    ax.set_ylim(-4*p[legIdx],4*p[legIdx])\n",
    "    pVal = str(np.round(stats.pearsonr(df['Y'],df[col])[1],3))\n",
    "    rVal = str(np.round(stats.pearsonr(df['Y'],df[col])[0],3))\n",
    "    ax.text(y=3*p[legIdx],x=-35,s='p = '+ pVal,fontsize=12)\n",
    "    ax.text(y=2.3*p[legIdx],x=-35,s='R = '+ rVal,fontsize=12)\n",
    "    ax.set_xlabel(col,fontsize=14,fontweight='bold')\n",
    "    ax.set_ylabel('Y',fontsize=14,fontweight='bold',rotation='horizontal')\n",
    "    ax.tick_params(labelsize=14)\n",
    "\n",
    "#Script to add plots to multipanel figure\n",
    "xPanel = 0; yPanel = 0; ncol = 2; nrow = 3; legIdx=0\n",
    "#plt.tight_layout()\n",
    "for i in xList:\n",
    "    multiPlot(i)\n",
    "    xPanel=xPanel+1; legIdx=legIdx+1\n",
    "    if xPanel>(nrow-1):\n",
    "        xPanel=0\n",
    "        yPanel=yPanel+1\n",
    "   \n",
    "fig.tight_layout()"
   ]
  },
  {
   "cell_type": "markdown",
   "metadata": {
    "collapsed": true
   },
   "source": [
    "The correlation coefficient (R) decays quickly. The p-values agree with this. Only x1 and x2 are significantly correlated. So it doesn't look that sensitive.\n",
    "\n",
    "# Multiple regression model\n",
    "\n",
    "Next, let's try instead to do a linear multiple regression model to see how much of the variance it can capture. Before we do that let's throw in some dummy predictors to see if the linear model will throw them out."
   ]
  },
  {
   "cell_type": "code",
   "execution_count": 17,
   "metadata": {
    "collapsed": false
   },
   "outputs": [
    {
     "data": {
      "text/html": [
       "<div>\n",
       "<table border=\"1\" class=\"dataframe\">\n",
       "  <thead>\n",
       "    <tr style=\"text-align: right;\">\n",
       "      <th></th>\n",
       "      <th>x1</th>\n",
       "      <th>x2</th>\n",
       "      <th>x3</th>\n",
       "      <th>x4</th>\n",
       "      <th>x5</th>\n",
       "      <th>x6</th>\n",
       "      <th>Y</th>\n",
       "      <th>x7</th>\n",
       "      <th>x8</th>\n",
       "      <th>x9</th>\n",
       "    </tr>\n",
       "  </thead>\n",
       "  <tbody>\n",
       "    <tr>\n",
       "      <th>0</th>\n",
       "      <td>-4.167578</td>\n",
       "      <td>5.807607</td>\n",
       "      <td>-2.877507</td>\n",
       "      <td>1.088551</td>\n",
       "      <td>-0.551953</td>\n",
       "      <td>0.077143</td>\n",
       "      <td>-0.623738</td>\n",
       "      <td>6.036715</td>\n",
       "      <td>3.942225</td>\n",
       "      <td>-0.192502</td>\n",
       "    </tr>\n",
       "    <tr>\n",
       "      <th>1</th>\n",
       "      <td>-0.562668</td>\n",
       "      <td>1.930390</td>\n",
       "      <td>-1.066306</td>\n",
       "      <td>0.741008</td>\n",
       "      <td>0.965867</td>\n",
       "      <td>-0.458992</td>\n",
       "      <td>1.549299</td>\n",
       "      <td>-0.796135</td>\n",
       "      <td>-3.516749</td>\n",
       "      <td>-0.830572</td>\n",
       "    </tr>\n",
       "    <tr>\n",
       "      <th>2</th>\n",
       "      <td>-21.361961</td>\n",
       "      <td>-5.665666</td>\n",
       "      <td>-0.370368</td>\n",
       "      <td>-1.374122</td>\n",
       "      <td>0.091150</td>\n",
       "      <td>0.358469</td>\n",
       "      <td>-28.322498</td>\n",
       "      <td>-2.112727</td>\n",
       "      <td>0.632365</td>\n",
       "      <td>-1.370604</td>\n",
       "    </tr>\n",
       "    <tr>\n",
       "      <th>3</th>\n",
       "      <td>16.402708</td>\n",
       "      <td>2.165463</td>\n",
       "      <td>3.753592</td>\n",
       "      <td>-0.851913</td>\n",
       "      <td>-0.250066</td>\n",
       "      <td>0.029862</td>\n",
       "      <td>21.249645</td>\n",
       "      <td>-16.577347</td>\n",
       "      <td>-3.263584</td>\n",
       "      <td>0.374666</td>\n",
       "    </tr>\n",
       "    <tr>\n",
       "      <th>4</th>\n",
       "      <td>-17.934356</td>\n",
       "      <td>-1.520432</td>\n",
       "      <td>2.173995</td>\n",
       "      <td>0.225083</td>\n",
       "      <td>0.509504</td>\n",
       "      <td>-0.346075</td>\n",
       "      <td>-16.892280</td>\n",
       "      <td>-15.010401</td>\n",
       "      <td>-5.324673</td>\n",
       "      <td>0.360172</td>\n",
       "    </tr>\n",
       "  </tbody>\n",
       "</table>\n",
       "</div>"
      ],
      "text/plain": [
       "          x1        x2        x3        x4        x5        x6          Y  \\\n",
       "0  -4.167578  5.807607 -2.877507  1.088551 -0.551953  0.077143  -0.623738   \n",
       "1  -0.562668  1.930390 -1.066306  0.741008  0.965867 -0.458992   1.549299   \n",
       "2 -21.361961 -5.665666 -0.370368 -1.374122  0.091150  0.358469 -28.322498   \n",
       "3  16.402708  2.165463  3.753592 -0.851913 -0.250066  0.029862  21.249645   \n",
       "4 -17.934356 -1.520432  2.173995  0.225083  0.509504 -0.346075 -16.892280   \n",
       "\n",
       "          x7        x8        x9  \n",
       "0   6.036715  3.942225 -0.192502  \n",
       "1  -0.796135 -3.516749 -0.830572  \n",
       "2  -2.112727  0.632365 -1.370604  \n",
       "3 -16.577347 -3.263584  0.374666  \n",
       "4 -15.010401 -5.324673  0.360172  "
      ]
     },
     "execution_count": 17,
     "metadata": {},
     "output_type": "execute_result"
    }
   ],
   "source": [
    "df['x7'] = np.random.randn(d)*p[0]\n",
    "df['x8'] = np.random.randn(d)*p[2]\n",
    "df['x9'] = np.random.randn(d)*p[4]\n",
    "\n",
    "df.head()"
   ]
  },
  {
   "cell_type": "markdown",
   "metadata": {},
   "source": [
    "Now we have 6 variables (x1-x6) that contribute to Y, and 3 variables (x7-x9) that do not.\n",
    "\n",
    "First ket's start with all the data and then see how well a feature removal alogrithm retains only the relevant data"
   ]
  },
  {
   "cell_type": "code",
   "execution_count": 18,
   "metadata": {
    "collapsed": false
   },
   "outputs": [
    {
     "name": "stdout",
     "output_type": "stream",
     "text": [
      "[  1.00000000e+00   1.00000000e+00   1.00000000e+00   1.00000000e+00\n",
      "   1.00000000e+00   1.00000000e+00   0.00000000e+00  -1.55431223e-15\n",
      "  -5.55111512e-17]\n"
     ]
    }
   ],
   "source": [
    "allVar = ['x' + str(i) for i in range(1,10)]\n",
    "x = df[allVar]\n",
    "y = df['Y']\n",
    "\n",
    "#head df[allVars]\n",
    "est = linear_model.LinearRegression()\n",
    "est.fit(x,y)\n",
    "print est.coef_"
   ]
  },
  {
   "cell_type": "markdown",
   "metadata": {
    "collapsed": true
   },
   "source": [
    "# Conclusion\n",
    "The multiple regression model did fantastic! It captured the exact coefficients used in the theoretical model, and was able to ignore the variables that do not contribute. Going beyond pairwise regressions is really worht it!\n",
    "\n",
    "Some further analysis could be done using feed forward/reverse model selection. I did this using R in another post. Python could [also do this](http://stackoverflow.com/questions/11479064/multivariate-linear-regression-in-python) analysis. "
   ]
  }
 ],
 "metadata": {
  "kernelspec": {
   "display_name": "Python 2",
   "language": "python",
   "name": "python2"
  },
  "language_info": {
   "codemirror_mode": {
    "name": "ipython",
    "version": 2
   },
   "file_extension": ".py",
   "mimetype": "text/x-python",
   "name": "python",
   "nbconvert_exporter": "python",
   "pygments_lexer": "ipython2",
   "version": "2.7.10"
  }
 },
 "nbformat": 4,
 "nbformat_minor": 0
}
